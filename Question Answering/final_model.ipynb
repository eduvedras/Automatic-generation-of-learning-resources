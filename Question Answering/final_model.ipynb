{
 "cells": [
  {
   "cell_type": "code",
   "execution_count": null,
   "metadata": {},
   "outputs": [],
   "source": [
    "import os\n",
    "\n",
    "os.environ['OPENAI_API_KEY'] = ''\n",
    "\n",
    "def formatData(data):\n",
    "    if data == 'no':\n",
    "        return 'A multi-line chart that does not suffer from overfitting.'\n",
    "    elif 'overfitting after' in data and 'acc=' not in data:\n",
    "        return f'A multi-line chart that shows {data}.'\n",
    "    elif 'overfitting until' in data:\n",
    "        return f'A multi-line chart that shows {data} neighbors.'\n",
    "    elif ',acc' in data and 'overfitting' in data:\n",
    "        if 'no' in data.split(\"nderfitting \")[0]:\n",
    "            underfitting = 'no'\n",
    "        else:\n",
    "            underfitting = data.split(\"nderfitting \")[1].split(\",\")[0]\n",
    "        \n",
    "        if 'no' in data.split(\"overfitting \")[0]:\n",
    "            overfitting = 'no'\n",
    "        else:\n",
    "            overfitting = data.split(\"overfitting \")[1].split(\",\")[0]\n",
    "         \n",
    "        if data.split(\"ac\")[1] == 'c>80':\n",
    "            acc = 'test accuracy line surpasses than 80%'\n",
    "        elif data.split(\"ac\")[1] == 'c<80':\n",
    "            acc = 'test accuracy line does not surpass 80%'\n",
    "        else:\n",
    "            acc = 'test accuracy line stays at 80%'\n",
    "        if underfitting == 'no' and overfitting == 'no':\n",
    "            return f'A multi-line chart showing the random forest does not have underfitting, does not enter in overfitting and it\\'s {acc}.'\n",
    "        elif underfitting != 'no' and overfitting == 'no':\n",
    "            return f'A multi-line chart showing the random forest is in underfitting until {underfitting} estimators, does not enter in overfitting and it\\'s {acc}.'\n",
    "        elif underfitting == 'no' and overfitting != 'no':\n",
    "            return f'A multi-line chart showing the random forest does not have underfitting, enters in overfitting after {overfitting} estimators and it\\'s {acc}.'\n",
    "        else:\n",
    "            return f'A multi-line chart showing the random forest is in underfitting until {underfitting} estimators, enters in overfitting after {overfitting} estimators and it\\'s {acc}.'\n",
    "    elif data == 'acc_rec':\n",
    "        return 'A multi-line chart showing the train and test accuracy and recall of a decision tree.'\n",
    "    elif 'samples' in data:\n",
    "        return f'A decision tree with the following configuration:{data}.'\n",
    "    elif data[0] == '[' and len(data.split(\",\")) > 2:\n",
    "        return f'A bar chart showing the explained variance ration of each principal components the values are the following:{data}.'\n",
    "    elif data[0] == '{' and data[1].isnumeric():\n",
    "        return f'A correlation heatmap with {data[1:].split(\",\")[0]} features where the redundant pairs are the following:{data[:-1].split(\",\",1)[1]}.'\n",
    "    elif data[0] == '[' and (data[1] == 'T' or data[1] == 'F') and data[2] == ',':\n",
    "        return f'A set of boxplots that aren\\'t normalized, in the following dictionary we can see each one of them and see if they have outliers and are balanced:{data[:-1].split(\",\",1)[1]}.'\n",
    "    elif data[-1] == '}' and data[-2] == ']':\n",
    "        return f'A set of bar charts for each symbolic variable:{data}.'\n",
    "    elif data[0] == '{' and data[-2].isnumeric():\n",
    "        return f'A bar chart showing the number of missing values for each variable:{data}.'\n",
    "    elif data[0] == '[' and len(data.split(\",\")) == 2:\n",
    "        return f'A bar chart with the following values:{data}.'\n",
    "    elif 'Ordinal:' in data:\n",
    "        return f'A set of histograms one for each variable, in the following dictionary we can see each one of them and see if they have outliers, if they are balanced and if it makes sense for them to be ordinal:{data}.'\n"
   ]
  },
  {
   "cell_type": "code",
   "execution_count": 13,
   "metadata": {},
   "outputs": [],
   "source": [
    "from PIL import Image\n",
    "import requests\n",
    "import torch\n",
    "from datasets import load_dataset\n",
    "from transformers import AutoProcessor\n",
    "from transformers import Pix2StructForConditionalGeneration, Pix2StructProcessor\n",
    "\n",
    "device = \"cuda\" if torch.cuda.is_available() else \"cpu\"\n",
    "\n",
    "filetag = 'final-model-special'\n",
    "\n",
    "dataset = load_dataset('eduvedras/QA',split='test',trust_remote_code=True)"
   ]
  },
  {
   "cell_type": "code",
   "execution_count": null,
   "metadata": {},
   "outputs": [],
   "source": [
    "checkpoint = \"eduvedras/ChartDataModel_Pix2Struct\"\n",
    "\n",
    "processor = Pix2StructProcessor.from_pretrained(\"google/pix2struct-textcaps-base\")"
   ]
  },
  {
   "cell_type": "code",
   "execution_count": 15,
   "metadata": {},
   "outputs": [
    {
     "data": {
      "text/plain": [
       "Pix2StructForConditionalGeneration(\n",
       "  (encoder): Pix2StructVisionModel(\n",
       "    (embeddings): Pix2StructVisionEmbeddings(\n",
       "      (patch_projection): Linear(in_features=768, out_features=768, bias=True)\n",
       "      (row_embedder): Embedding(4096, 768)\n",
       "      (column_embedder): Embedding(4096, 768)\n",
       "      (dropout): Dropout(p=0.06, inplace=False)\n",
       "    )\n",
       "    (encoder): Pix2StructVisionEncoder(\n",
       "      (layer): ModuleList(\n",
       "        (0-11): 12 x Pix2StructVisionLayer(\n",
       "          (attention): Pix2StructVisionAttention(\n",
       "            (query): Linear(in_features=768, out_features=768, bias=False)\n",
       "            (key): Linear(in_features=768, out_features=768, bias=False)\n",
       "            (value): Linear(in_features=768, out_features=768, bias=False)\n",
       "            (output): Linear(in_features=768, out_features=768, bias=False)\n",
       "          )\n",
       "          (mlp): Pix2StructVisionMlp(\n",
       "            (wi_0): Linear(in_features=768, out_features=2048, bias=False)\n",
       "            (wi_1): Linear(in_features=768, out_features=2048, bias=False)\n",
       "            (wo): Linear(in_features=2048, out_features=768, bias=False)\n",
       "            (dropout): Dropout(p=0.06, inplace=False)\n",
       "            (act): NewGELUActivation()\n",
       "          )\n",
       "          (pre_mlp_layer_norm): Pix2StructLayerNorm()\n",
       "          (pre_attention_layer_norm): Pix2StructLayerNorm()\n",
       "        )\n",
       "      )\n",
       "    )\n",
       "    (layernorm): Pix2StructLayerNorm()\n",
       "  )\n",
       "  (decoder): Pix2StructTextModel(\n",
       "    (embed_tokens): Embedding(50244, 768)\n",
       "    (layer): ModuleList(\n",
       "      (0): Pix2StructTextBlock(\n",
       "        (self_attention): Pix2StructTextLayerSelfAttention(\n",
       "          (attention): Pix2StructTextAttention(\n",
       "            (query): Linear(in_features=768, out_features=768, bias=False)\n",
       "            (key): Linear(in_features=768, out_features=768, bias=False)\n",
       "            (value): Linear(in_features=768, out_features=768, bias=False)\n",
       "            (output): Linear(in_features=768, out_features=768, bias=False)\n",
       "            (relative_attention_bias): Embedding(32, 12)\n",
       "          )\n",
       "          (layer_norm): Pix2StructLayerNorm()\n",
       "          (dropout): Dropout(p=0.05, inplace=False)\n",
       "        )\n",
       "        (encoder_decoder_attention): Pix2StructTextLayerCrossAttention(\n",
       "          (attention): Pix2StructTextAttention(\n",
       "            (query): Linear(in_features=768, out_features=768, bias=False)\n",
       "            (key): Linear(in_features=768, out_features=768, bias=False)\n",
       "            (value): Linear(in_features=768, out_features=768, bias=False)\n",
       "            (output): Linear(in_features=768, out_features=768, bias=False)\n",
       "          )\n",
       "          (layer_norm): Pix2StructLayerNorm()\n",
       "          (dropout): Dropout(p=0.05, inplace=False)\n",
       "        )\n",
       "        (mlp): Pix2StructTextLayerFF(\n",
       "          (DenseReluDense): Pix2StructTextDenseGatedActDense(\n",
       "            (wi_0): Linear(in_features=768, out_features=2048, bias=False)\n",
       "            (wi_1): Linear(in_features=768, out_features=2048, bias=False)\n",
       "            (wo): Linear(in_features=2048, out_features=768, bias=False)\n",
       "            (dropout): Dropout(p=0.05, inplace=False)\n",
       "            (act): NewGELUActivation()\n",
       "          )\n",
       "          (layer_norm): Pix2StructLayerNorm()\n",
       "          (dropout): Dropout(p=0.05, inplace=False)\n",
       "        )\n",
       "      )\n",
       "      (1-11): 11 x Pix2StructTextBlock(\n",
       "        (self_attention): Pix2StructTextLayerSelfAttention(\n",
       "          (attention): Pix2StructTextAttention(\n",
       "            (query): Linear(in_features=768, out_features=768, bias=False)\n",
       "            (key): Linear(in_features=768, out_features=768, bias=False)\n",
       "            (value): Linear(in_features=768, out_features=768, bias=False)\n",
       "            (output): Linear(in_features=768, out_features=768, bias=False)\n",
       "          )\n",
       "          (layer_norm): Pix2StructLayerNorm()\n",
       "          (dropout): Dropout(p=0.05, inplace=False)\n",
       "        )\n",
       "        (encoder_decoder_attention): Pix2StructTextLayerCrossAttention(\n",
       "          (attention): Pix2StructTextAttention(\n",
       "            (query): Linear(in_features=768, out_features=768, bias=False)\n",
       "            (key): Linear(in_features=768, out_features=768, bias=False)\n",
       "            (value): Linear(in_features=768, out_features=768, bias=False)\n",
       "            (output): Linear(in_features=768, out_features=768, bias=False)\n",
       "          )\n",
       "          (layer_norm): Pix2StructLayerNorm()\n",
       "          (dropout): Dropout(p=0.05, inplace=False)\n",
       "        )\n",
       "        (mlp): Pix2StructTextLayerFF(\n",
       "          (DenseReluDense): Pix2StructTextDenseGatedActDense(\n",
       "            (wi_0): Linear(in_features=768, out_features=2048, bias=False)\n",
       "            (wi_1): Linear(in_features=768, out_features=2048, bias=False)\n",
       "            (wo): Linear(in_features=2048, out_features=768, bias=False)\n",
       "            (dropout): Dropout(p=0.05, inplace=False)\n",
       "            (act): NewGELUActivation()\n",
       "          )\n",
       "          (layer_norm): Pix2StructLayerNorm()\n",
       "          (dropout): Dropout(p=0.05, inplace=False)\n",
       "        )\n",
       "      )\n",
       "    )\n",
       "    (final_layer_norm): Pix2StructLayerNorm()\n",
       "    (dropout): Dropout(p=0.05, inplace=False)\n",
       "    (lm_head): Linear(in_features=768, out_features=50244, bias=False)\n",
       "  )\n",
       ")"
      ]
     },
     "execution_count": 15,
     "metadata": {},
     "output_type": "execute_result"
    }
   ],
   "source": [
    "from huggingface_hub import InferenceClient\n",
    "from transformers import AutoModelForCausalLM\n",
    "\n",
    "model = Pix2StructForConditionalGeneration.from_pretrained(checkpoint).to(device)\n",
    "model"
   ]
  },
  {
   "cell_type": "code",
   "execution_count": 16,
   "metadata": {},
   "outputs": [
    {
     "name": "stderr",
     "output_type": "stream",
     "text": [
      "  0%|          | 0/323 [00:00<?, ?it/s]"
     ]
    },
    {
     "name": "stdout",
     "output_type": "stream",
     "text": [
      "A decision tree with the following configuration:{'Int_memory <= 30.5': {'samples': 350, 'value': [350,350,350,350], 'class': '0', 'True': {'mobile_wt <= 678': {'samples': 678, 'value': [179,169,182,148], 'class': '1', 'True': {'samples': 460, 'value': [114,128,118,109], 'class': '1'}, 'False': {'samples': 209, 'value': [65,47,34,39], 'class': '0'}}}, 'False': {'mobile_wt <= 91.5': {'samples': 394, 'value': [171,181,168,202], 'class': '3', 'True': {'samples': 86, 'value': [26,19,11,30], 'class': '3'}}}}}.\n"
     ]
    },
    {
     "name": "stderr",
     "output_type": "stream",
     "text": [
      "  0%|          | 1/323 [00:16<1:28:27, 16.48s/it]"
     ]
    },
    {
     "name": "stdout",
     "output_type": "stream",
     "text": [
      "True\n",
      "A decision tree with the following configuration:{'Int_memory <= 30.5': {'samples': 350, 'value': [350,350,350,350], 'class': '0', 'True': {'mobile_wt <= 678': {'samples': 678, 'value': [179,169,182,148], 'class': '1', 'True': {'samples': 460, 'value': [114,128,118,109], 'class': '1'}, 'False': {'samples': 209, 'value': [65,47,34,39], 'class': '0'}}}, 'False': {'mobile_wt <= 91.5': {'samples': 394, 'value': [171,181,168,202], 'class': '3', 'True': {'samples': 86, 'value': [26,19,11,30], 'class': '3'}}}}}.\n"
     ]
    },
    {
     "name": "stderr",
     "output_type": "stream",
     "text": [
      "  1%|          | 2/323 [00:32<1:25:35, 16.00s/it]"
     ]
    },
    {
     "name": "stdout",
     "output_type": "stream",
     "text": [
      "True\n",
      "A decision tree with the following configuration:{'Int_memory <= 30.5': {'samples': 350, 'value': [350,350,350,350], 'class': '0', 'True': {'mobile_wt <= 678': {'samples': 678, 'value': [179,169,182,148], 'class': '1', 'True': {'samples': 460, 'value': [114,128,118,109], 'class': '1'}, 'False': {'samples': 209, 'value': [65,47,34,39], 'class': '0'}}}, 'False': {'mobile_wt <= 91.5': {'samples': 394, 'value': [171,181,168,202], 'class': '3', 'True': {'samples': 86, 'value': [26,19,11,30], 'class': '3'}}}}}.\n"
     ]
    },
    {
     "name": "stderr",
     "output_type": "stream",
     "text": [
      "  1%|          | 3/323 [00:47<1:24:10, 15.78s/it]"
     ]
    },
    {
     "name": "stdout",
     "output_type": "stream",
     "text": [
      "True\n",
      "A decision tree with the following configuration:{'Int_memory <= 30.5': {'samples': 350, 'value': [350,350,350,350], 'class': '0', 'True': {'mobile_wt <= 678': {'samples': 678, 'value': [179,169,182,148], 'class': '1', 'True': {'samples': 460, 'value': [114,128,118,109], 'class': '1'}, 'False': {'samples': 209, 'value': [65,47,34,39], 'class': '0'}}}, 'False': {'mobile_wt <= 91.5': {'samples': 394, 'value': [171,181,168,202], 'class': '3', 'True': {'samples': 86, 'value': [26,19,11,30], 'class': '3'}}}}}.\n"
     ]
    },
    {
     "name": "stderr",
     "output_type": "stream",
     "text": [
      "  1%|          | 4/323 [00:59<1:15:06, 14.13s/it]"
     ]
    },
    {
     "name": "stdout",
     "output_type": "stream",
     "text": [
      "False\n",
      "A decision tree with the following configuration:{'Int_memory <= 30.5': {'samples': 350, 'value': [350,350,350,350], 'class': '0', 'True': {'mobile_wt <= 678': {'samples': 678, 'value': [179,169,182,148], 'class': '1', 'True': {'samples': 460, 'value': [114,128,118,109], 'class': '1'}, 'False': {'samples': 209, 'value': [65,47,34,39], 'class': '0'}}}, 'False': {'mobile_wt <= 91.5': {'samples': 394, 'value': [171,181,168,202], 'class': '3', 'True': {'samples': 86, 'value': [26,19,11,30], 'class': '3'}}}}}.\n"
     ]
    },
    {
     "name": "stderr",
     "output_type": "stream",
     "text": [
      "  2%|▏         | 5/323 [01:10<1:08:50, 12.99s/it]"
     ]
    },
    {
     "name": "stdout",
     "output_type": "stream",
     "text": [
      "False\n",
      "A decision tree with the following configuration:{'Int_memory <= 30.5': {'samples': 350, 'value': [350,350,350,350], 'class': '0', 'True': {'mobile_wt <= 678': {'samples': 678, 'value': [179,169,182,148], 'class': '1', 'True': {'samples': 460, 'value': [114,128,118,109], 'class': '1'}, 'False': {'samples': 209, 'value': [65,47,34,39], 'class': '0'}}}, 'False': {'mobile_wt <= 91.5': {'samples': 394, 'value': [171,181,168,202], 'class': '3', 'True': {'samples': 86, 'value': [26,19,11,30], 'class': '3'}}}}}.\n"
     ]
    },
    {
     "name": "stderr",
     "output_type": "stream",
     "text": [
      "  2%|▏         | 6/323 [01:22<1:07:46, 12.83s/it]"
     ]
    },
    {
     "name": "stdout",
     "output_type": "stream",
     "text": [
      "True\n",
      "A bar chart showing the explained variance ration of each principal components the values are the following:[0.67,0.17,0.11,0.05,0.00,0.00,0.00,0.00,0.00,0.00,0.00].\n"
     ]
    },
    {
     "name": "stderr",
     "output_type": "stream",
     "text": [
      "  6%|▌         | 20/323 [01:25<09:14,  1.83s/it] "
     ]
    },
    {
     "name": "stdout",
     "output_type": "stream",
     "text": [
      "True\n",
      "A bar chart showing the explained variance ration of each principal components the values are the following:[0.67,0.17,0.11,0.05,0.00,0.00,0.00,0.00,0.00,0.00,0.00].\n"
     ]
    },
    {
     "name": "stderr",
     "output_type": "stream",
     "text": [
      " 10%|█         | 33/323 [01:28<03:52,  1.24it/s]"
     ]
    },
    {
     "name": "stdout",
     "output_type": "stream",
     "text": [
      "False\n"
     ]
    },
    {
     "name": "stderr",
     "output_type": "stream",
     "text": [
      " 17%|█▋        | 56/323 [01:30<00:35,  7.54it/s]"
     ]
    },
    {
     "name": "stdout",
     "output_type": "stream",
     "text": [
      "A bar chart showing the explained variance ration of each principal components the values are the following:[500,500,500].\n",
      "False\n",
      "A bar chart with the following values:[2000,19].\n",
      "False\n",
      "A bar chart with the following values:[2000,19].\n"
     ]
    },
    {
     "name": "stderr",
     "output_type": "stream",
     "text": [
      " 19%|█▉        | 61/323 [01:33<01:24,  3.11it/s]"
     ]
    },
    {
     "name": "stdout",
     "output_type": "stream",
     "text": [
      "False\n"
     ]
    },
    {
     "name": "stderr",
     "output_type": "stream",
     "text": [
      " 24%|██▍       | 77/323 [01:34<00:26,  9.20it/s]"
     ]
    },
    {
     "name": "stdout",
     "output_type": "stream",
     "text": [
      "A decision tree with the following configuration:{'Pclass <= 2.5': {'samples': 498, 'value': [297,201], 'class': '0', 'True': {'Parch <= 0.5': {'samples': 253, 'value': [115,138], 'class': '1', 'True': {'samples': 181, 'value': [94,87], 'class': '0'}, 'False': {'samples': 72, 'value': [21,51], 'class': '1'}}}, 'False': {'Parch <= 0.5': {'samples': 245, 'value': [182,63], 'class': '0', 'True': {'samples': 188, 'value': [144,44], 'class': '0'}, 'False': {'samples': 38, 'value': [38,19], 'class': '0'}}}}}.\n"
     ]
    },
    {
     "name": "stderr",
     "output_type": "stream",
     "text": [
      " 24%|██▍       | 79/323 [01:50<09:33,  2.35s/it]"
     ]
    },
    {
     "name": "stdout",
     "output_type": "stream",
     "text": [
      "True\n",
      "A decision tree with the following configuration:{'Pclass <= 2.5': {'samples': 498, 'value': [297,201], 'class': '0', 'True': {'Parch <= 0.5': {'samples': 253, 'value': [115,138], 'class': '1', 'True': {'samples': 181, 'value': [94,87], 'class': '0'}, 'False': {'samples': 72, 'value': [21,51], 'class': '1'}}}, 'False': {'Parch <= 0.5': {'samples': 245, 'value': [182,63], 'class': '0', 'True': {'samples': 188, 'value': [144,44], 'class': '0'}, 'False': {'samples': 38, 'value': [38,19], 'class': '0'}}}}}.\n"
     ]
    },
    {
     "name": "stderr",
     "output_type": "stream",
     "text": [
      " 25%|██▍       | 80/323 [02:04<17:42,  4.37s/it]"
     ]
    },
    {
     "name": "stdout",
     "output_type": "stream",
     "text": [
      "True\n",
      "A decision tree with the following configuration:{'Pclass <= 2.5': {'samples': 498, 'value': [297,201], 'class': '0', 'True': {'Parch <= 0.5': {'samples': 253, 'value': [115,138], 'class': '1', 'True': {'samples': 181, 'value': [94,87], 'class': '0'}, 'False': {'samples': 72, 'value': [21,51], 'class': '1'}}}, 'False': {'Parch <= 0.5': {'samples': 245, 'value': [182,63], 'class': '0', 'True': {'samples': 188, 'value': [144,44], 'class': '0'}, 'False': {'samples': 38, 'value': [38,19], 'class': '0'}}}}}.\n"
     ]
    },
    {
     "name": "stderr",
     "output_type": "stream",
     "text": [
      " 25%|██▌       | 81/323 [02:18<25:54,  6.42s/it]"
     ]
    },
    {
     "name": "stdout",
     "output_type": "stream",
     "text": [
      "True\n",
      "A decision tree with the following configuration:{'Pclass <= 2.5': {'samples': 498, 'value': [297,201], 'class': '0', 'True': {'Parch <= 0.5': {'samples': 253, 'value': [115,138], 'class': '1', 'True': {'samples': 181, 'value': [94,87], 'class': '0'}, 'False': {'samples': 72, 'value': [21,51], 'class': '1'}}}, 'False': {'Parch <= 0.5': {'samples': 245, 'value': [182,63], 'class': '0', 'True': {'samples': 188, 'value': [144,44], 'class': '0'}, 'False': {'samples': 38, 'value': [38,19], 'class': '0'}}}}}.\n"
     ]
    },
    {
     "name": "stderr",
     "output_type": "stream",
     "text": [
      " 25%|██▌       | 82/323 [02:35<34:27,  8.58s/it]"
     ]
    },
    {
     "name": "stdout",
     "output_type": "stream",
     "text": [
      "False\n",
      "A decision tree with the following configuration:{'Pclass <= 2.5': {'samples': 498, 'value': [297,201], 'class': '0', 'True': {'Parch <= 0.5': {'samples': 253, 'value': [115,138], 'class': '1', 'True': {'samples': 181, 'value': [94,87], 'class': '0'}, 'False': {'samples': 72, 'value': [21,51], 'class': '1'}}}, 'False': {'Parch <= 0.5': {'samples': 245, 'value': [182,63], 'class': '0', 'True': {'samples': 188, 'value': [144,44], 'class': '0'}, 'False': {'samples': 38, 'value': [38,19], 'class': '0'}}}}}.\n"
     ]
    },
    {
     "name": "stderr",
     "output_type": "stream",
     "text": [
      " 26%|██▌       | 83/323 [02:50<40:42, 10.18s/it]"
     ]
    },
    {
     "name": "stdout",
     "output_type": "stream",
     "text": [
      "True\n",
      "A decision tree with the following configuration:{'Pclass <= 2.5': {'samples': 498, 'value': [297,201], 'class': '0', 'True': {'Parch <= 0.5': {'samples': 253, 'value': [115,138], 'class': '1', 'True': {'samples': 181, 'value': [94,87], 'class': '0'}, 'False': {'samples': 72, 'value': [21,51], 'class': '1'}}}, 'False': {'Parch <= 0.5': {'samples': 245, 'value': [182,63], 'class': '0', 'True': {'samples': 188, 'value': [144,44], 'class': '0'}, 'False': {'samples': 38, 'value': [38,19], 'class': '0'}}}}}.\n"
     ]
    },
    {
     "name": "stderr",
     "output_type": "stream",
     "text": [
      " 26%|██▌       | 84/323 [03:01<42:06, 10.57s/it]"
     ]
    },
    {
     "name": "stdout",
     "output_type": "stream",
     "text": [
      "False\n",
      "A decision tree with the following configuration:{'Pclass <= 2.5': {'samples': 498, 'value': [297,201], 'class': '0', 'True': {'Parch <= 0.5': {'samples': 253, 'value': [115,138], 'class': '1', 'True': {'samples': 181, 'value': [94,87], 'class': '0'}, 'False': {'samples': 72, 'value': [21,51], 'class': '1'}}}, 'False': {'Parch <= 0.5': {'samples': 245, 'value': [182,63], 'class': '0', 'True': {'samples': 188, 'value': [144,44], 'class': '0'}, 'False': {'samples': 38, 'value': [38,19], 'class': '0'}}}}}.\n"
     ]
    },
    {
     "name": "stderr",
     "output_type": "stream",
     "text": [
      " 26%|██▋       | 85/323 [03:17<46:42, 11.78s/it]"
     ]
    },
    {
     "name": "stdout",
     "output_type": "stream",
     "text": [
      "True\n",
      "A decision tree with the following configuration:{'Pclass <= 2.5': {'samples': 498, 'value': [297,201], 'class': '0', 'True': {'Parch <= 0.5': {'samples': 253, 'value': [115,138], 'class': '1', 'True': {'samples': 181, 'value': [94,87], 'class': '0'}, 'False': {'samples': 72, 'value': [21,51], 'class': '1'}}}, 'False': {'Parch <= 0.5': {'samples': 245, 'value': [182,63], 'class': '0', 'True': {'samples': 188, 'value': [144,44], 'class': '0'}, 'False': {'samples': 38, 'value': [38,19], 'class': '0'}}}}}.\n"
     ]
    },
    {
     "name": "stderr",
     "output_type": "stream",
     "text": [
      " 27%|██▋       | 86/323 [03:31<49:36, 12.56s/it]"
     ]
    },
    {
     "name": "stdout",
     "output_type": "stream",
     "text": [
      "True\n",
      "A decision tree with the following configuration:{'Pclass <= 2.5': {'samples': 498, 'value': [297,201], 'class': '0', 'True': {'Parch <= 0.5': {'samples': 253, 'value': [115,138], 'class': '1', 'True': {'samples': 181, 'value': [94,87], 'class': '0'}, 'False': {'samples': 72, 'value': [21,51], 'class': '1'}}}, 'False': {'Parch <= 0.5': {'samples': 245, 'value': [182,63], 'class': '0', 'True': {'samples': 188, 'value': [144,44], 'class': '0'}, 'False': {'samples': 38, 'value': [38,19], 'class': '0'}}}}}.\n"
     ]
    },
    {
     "name": "stderr",
     "output_type": "stream",
     "text": [
      " 27%|██▋       | 87/323 [03:46<51:40, 13.14s/it]"
     ]
    },
    {
     "name": "stdout",
     "output_type": "stream",
     "text": [
      "False\n",
      "A decision tree with the following configuration:{'Pclass <= 2.5': {'samples': 498, 'value': [297,201], 'class': '0', 'True': {'Parch <= 0.5': {'samples': 253, 'value': [115,138], 'class': '1', 'True': {'samples': 181, 'value': [94,87], 'class': '0'}, 'False': {'samples': 72, 'value': [21,51], 'class': '1'}}}, 'False': {'Parch <= 0.5': {'samples': 245, 'value': [182,63], 'class': '0', 'True': {'samples': 188, 'value': [144,44], 'class': '0'}, 'False': {'samples': 38, 'value': [38,19], 'class': '0'}}}}}.\n"
     ]
    },
    {
     "name": "stderr",
     "output_type": "stream",
     "text": [
      " 27%|██▋       | 88/323 [04:00<52:57, 13.52s/it]"
     ]
    },
    {
     "name": "stdout",
     "output_type": "stream",
     "text": [
      "False\n",
      "A decision tree with the following configuration:{'Pclass <= 2.5': {'samples': 498, 'value': [297,201], 'class': '0', 'True': {'Parch <= 0.5': {'samples': 253, 'value': [115,138], 'class': '1', 'True': {'samples': 181, 'value': [94,87], 'class': '0'}, 'False': {'samples': 72, 'value': [21,51], 'class': '1'}}}, 'False': {'Parch <= 0.5': {'samples': 245, 'value': [182,63], 'class': '0', 'True': {'samples': 188, 'value': [144,44], 'class': '0'}, 'False': {'samples': 38, 'value': [38,19], 'class': '0'}}}}}.\n"
     ]
    },
    {
     "name": "stderr",
     "output_type": "stream",
     "text": [
      " 28%|██▊       | 89/323 [04:15<53:48, 13.80s/it]"
     ]
    },
    {
     "name": "stdout",
     "output_type": "stream",
     "text": [
      "True\n",
      "A multi-line chart showing the train and test accuracy and recall of a decision tree.\n"
     ]
    },
    {
     "name": "stderr",
     "output_type": "stream",
     "text": [
      " 32%|███▏      | 103/323 [04:16<07:36,  2.07s/it]"
     ]
    },
    {
     "name": "stdout",
     "output_type": "stream",
     "text": [
      "False\n",
      "A bar chart showing the explained variance ration of each principal components the values are the following:[0.93,0.07,0.00,0.00,0.00].\n",
      "True\n",
      "A bar chart showing the explained variance ration of each principal components the values are the following:[0.93,0.07,0.00,0.00,0.00].\n"
     ]
    },
    {
     "name": "stderr",
     "output_type": "stream",
     "text": [
      " 36%|███▌      | 117/323 [04:19<03:00,  1.14it/s]"
     ]
    },
    {
     "name": "stdout",
     "output_type": "stream",
     "text": [
      "False\n"
     ]
    },
    {
     "name": "stderr",
     "output_type": "stream",
     "text": [
      " 42%|████▏     | 136/323 [04:19<00:45,  4.10it/s]"
     ]
    },
    {
     "name": "stdout",
     "output_type": "stream",
     "text": [
      "A bar chart showing the number of missing values for each variable:{'Age': 175, 'Employed': 2}.\n"
     ]
    },
    {
     "name": "stderr",
     "output_type": "stream",
     "text": [
      " 44%|████▎     | 141/323 [04:21<00:46,  3.92it/s]"
     ]
    },
    {
     "name": "stdout",
     "output_type": "stream",
     "text": [
      "False\n",
      "A bar chart showing the number of missing values for each variable:{'Age': 175, 'Employed': 2}.\n",
      "True\n",
      "A bar chart showing the number of missing values for each variable:{'Age': 175, 'Employed': 2}.\n",
      "True\n",
      "A bar chart showing the number of missing values for each variable:{'Age': 175, 'Employed': 2}.\n"
     ]
    },
    {
     "name": "stderr",
     "output_type": "stream",
     "text": [
      " 45%|████▍     | 144/323 [04:25<01:27,  2.04it/s]"
     ]
    },
    {
     "name": "stdout",
     "output_type": "stream",
     "text": [
      "True\n",
      "A bar chart showing the number of missing values for each variable:{'Age': 175, 'Employed': 2}.\n",
      "False\n",
      "A bar chart showing the number of missing values for each variable:{'Age': 175, 'Employed': 2}.\n"
     ]
    },
    {
     "name": "stderr",
     "output_type": "stream",
     "text": [
      " 45%|████▌     | 146/323 [04:27<01:53,  1.56it/s]"
     ]
    },
    {
     "name": "stdout",
     "output_type": "stream",
     "text": [
      "True\n",
      "A bar chart with the following values:[549,342].\n",
      "True\n",
      "A bar chart with the following values:[891,8].\n"
     ]
    },
    {
     "name": "stderr",
     "output_type": "stream",
     "text": [
      " 46%|████▌     | 148/323 [04:30<02:14,  1.30it/s]"
     ]
    },
    {
     "name": "stdout",
     "output_type": "stream",
     "text": [
      "False\n",
      "A bar chart with the following values:[891,8].\n"
     ]
    },
    {
     "name": "stderr",
     "output_type": "stream",
     "text": [
      " 47%|████▋     | 152/323 [04:31<01:33,  1.84it/s]"
     ]
    },
    {
     "name": "stdout",
     "output_type": "stream",
     "text": [
      "False\n"
     ]
    },
    {
     "name": "stderr",
     "output_type": "stream",
     "text": [
      " 51%|█████▏    | 166/323 [04:43<00:18,  8.37it/s]"
     ]
    },
    {
     "name": "stdout",
     "output_type": "stream",
     "text": [
      "A decision tree with the following configuration:{'Juiciness <= -0.3': {'samples': 2800, 'value': [1397,1403], 'class': 'good', 'True': {'Crunchness <= 2.25': {'samples': 932, 'value': [635,297], 'class': 'bad', 'True': {'samples': 148, 'value': [64,84], 'class': 'good'}, 'False': {'samples': 784, 'value': [571,213], 'class': 'good'}}}, 'False': {'Crunchness <= 2.25': {'samples': 1868, 'value': [762,1106], 'class': 'good', 'True': {'samples': 243, 'value': [28,215], 'class': 'good'}}}}}.\n"
     ]
    },
    {
     "name": "stderr",
     "output_type": "stream",
     "text": [
      " 52%|█████▏    | 168/323 [04:45<04:08,  1.60s/it]"
     ]
    },
    {
     "name": "stdout",
     "output_type": "stream",
     "text": [
      "True\n",
      "A decision tree with the following configuration:{'Juiciness <= -0.3': {'samples': 2800, 'value': [1397,1403], 'class': 'good', 'True': {'Crunchness <= 2.25': {'samples': 932, 'value': [635,297], 'class': 'bad', 'True': {'samples': 148, 'value': [64,84], 'class': 'good'}, 'False': {'samples': 784, 'value': [571,213], 'class': 'good'}}}, 'False': {'Crunchness <= 2.25': {'samples': 1868, 'value': [762,1106], 'class': 'good', 'True': {'samples': 243, 'value': [28,215], 'class': 'good'}}}}}.\n"
     ]
    },
    {
     "name": "stderr",
     "output_type": "stream",
     "text": [
      " 52%|█████▏    | 169/323 [04:58<08:21,  3.26s/it]"
     ]
    },
    {
     "name": "stdout",
     "output_type": "stream",
     "text": [
      "True\n",
      "A decision tree with the following configuration:{'Juiciness <= -0.3': {'samples': 2800, 'value': [1397,1403], 'class': 'good', 'True': {'Crunchness <= 2.25': {'samples': 932, 'value': [635,297], 'class': 'bad', 'True': {'samples': 148, 'value': [64,84], 'class': 'good'}, 'False': {'samples': 784, 'value': [571,213], 'class': 'good'}}}, 'False': {'Crunchness <= 2.25': {'samples': 1868, 'value': [762,1106], 'class': 'good', 'True': {'samples': 243, 'value': [28,215], 'class': 'good'}}}}}.\n"
     ]
    },
    {
     "name": "stderr",
     "output_type": "stream",
     "text": [
      " 53%|█████▎    | 170/323 [05:11<12:33,  4.92s/it]"
     ]
    },
    {
     "name": "stdout",
     "output_type": "stream",
     "text": [
      "True\n",
      "A decision tree with the following configuration:{'Juiciness <= -0.3': {'samples': 2800, 'value': [1397,1403], 'class': 'good', 'True': {'Crunchness <= 2.25': {'samples': 932, 'value': [635,297], 'class': 'bad', 'True': {'samples': 148, 'value': [64,84], 'class': 'good'}, 'False': {'samples': 784, 'value': [571,213], 'class': 'good'}}}, 'False': {'Crunchness <= 2.25': {'samples': 1868, 'value': [762,1106], 'class': 'good', 'True': {'samples': 243, 'value': [28,215], 'class': 'good'}}}}}.\n"
     ]
    },
    {
     "name": "stderr",
     "output_type": "stream",
     "text": [
      " 53%|█████▎    | 171/323 [05:25<16:28,  6.51s/it]"
     ]
    },
    {
     "name": "stdout",
     "output_type": "stream",
     "text": [
      "True\n",
      "A decision tree with the following configuration:{'Juiciness <= -0.3': {'samples': 2800, 'value': [1397,1403], 'class': 'good', 'True': {'Crunchness <= 2.25': {'samples': 932, 'value': [635,297], 'class': 'bad', 'True': {'samples': 148, 'value': [64,84], 'class': 'good'}, 'False': {'samples': 784, 'value': [571,213], 'class': 'good'}}}, 'False': {'Crunchness <= 2.25': {'samples': 1868, 'value': [762,1106], 'class': 'good', 'True': {'samples': 243, 'value': [28,215], 'class': 'good'}}}}}.\n"
     ]
    },
    {
     "name": "stderr",
     "output_type": "stream",
     "text": [
      " 53%|█████▎    | 172/323 [05:38<19:59,  7.94s/it]"
     ]
    },
    {
     "name": "stdout",
     "output_type": "stream",
     "text": [
      "True\n",
      "A decision tree with the following configuration:{'Juiciness <= -0.3': {'samples': 2800, 'value': [1397,1403], 'class': 'good', 'True': {'Crunchness <= 2.25': {'samples': 932, 'value': [635,297], 'class': 'bad', 'True': {'samples': 148, 'value': [64,84], 'class': 'good'}, 'False': {'samples': 784, 'value': [571,213], 'class': 'good'}}}, 'False': {'Crunchness <= 2.25': {'samples': 1868, 'value': [762,1106], 'class': 'good', 'True': {'samples': 243, 'value': [28,215], 'class': 'good'}}}}}.\n"
     ]
    },
    {
     "name": "stderr",
     "output_type": "stream",
     "text": [
      " 54%|█████▎    | 173/323 [05:51<22:57,  9.19s/it]"
     ]
    },
    {
     "name": "stdout",
     "output_type": "stream",
     "text": [
      "True\n",
      "A decision tree with the following configuration:{'Juiciness <= -0.3': {'samples': 2800, 'value': [1397,1403], 'class': 'good', 'True': {'Crunchness <= 2.25': {'samples': 932, 'value': [635,297], 'class': 'bad', 'True': {'samples': 148, 'value': [64,84], 'class': 'good'}, 'False': {'samples': 784, 'value': [571,213], 'class': 'good'}}}, 'False': {'Crunchness <= 2.25': {'samples': 1868, 'value': [762,1106], 'class': 'good', 'True': {'samples': 243, 'value': [28,215], 'class': 'good'}}}}}.\n"
     ]
    },
    {
     "name": "stderr",
     "output_type": "stream",
     "text": [
      " 54%|█████▍    | 174/323 [06:04<25:23, 10.23s/it]"
     ]
    },
    {
     "name": "stdout",
     "output_type": "stream",
     "text": [
      "False\n",
      "A decision tree with the following configuration:{'Juiciness <= -0.3': {'samples': 2800, 'value': [1397,1403], 'class': 'good', 'True': {'Crunchness <= 2.25': {'samples': 932, 'value': [635,297], 'class': 'bad', 'True': {'samples': 148, 'value': [64,84], 'class': 'good'}, 'False': {'samples': 784, 'value': [571,213], 'class': 'good'}}}, 'False': {'Crunchness <= 2.25': {'samples': 1868, 'value': [762,1106], 'class': 'good', 'True': {'samples': 243, 'value': [28,215], 'class': 'good'}}}}}.\n"
     ]
    },
    {
     "name": "stderr",
     "output_type": "stream",
     "text": [
      " 54%|█████▍    | 175/323 [06:18<27:15, 11.05s/it]"
     ]
    },
    {
     "name": "stdout",
     "output_type": "stream",
     "text": [
      "True\n",
      "A decision tree with the following configuration:{'Juiciness <= -0.3': {'samples': 2800, 'value': [1397,1403], 'class': 'good', 'True': {'Crunchness <= 2.25': {'samples': 932, 'value': [635,297], 'class': 'bad', 'True': {'samples': 148, 'value': [64,84], 'class': 'good'}, 'False': {'samples': 784, 'value': [571,213], 'class': 'good'}}}, 'False': {'Crunchness <= 2.25': {'samples': 1868, 'value': [762,1106], 'class': 'good', 'True': {'samples': 243, 'value': [28,215], 'class': 'good'}}}}}.\n"
     ]
    },
    {
     "name": "stderr",
     "output_type": "stream",
     "text": [
      " 54%|█████▍    | 176/323 [06:31<28:45, 11.74s/it]"
     ]
    },
    {
     "name": "stdout",
     "output_type": "stream",
     "text": [
      "False\n",
      "A decision tree with the following configuration:{'Juiciness <= -0.3': {'samples': 2800, 'value': [1397,1403], 'class': 'good', 'True': {'Crunchness <= 2.25': {'samples': 932, 'value': [635,297], 'class': 'bad', 'True': {'samples': 148, 'value': [64,84], 'class': 'good'}, 'False': {'samples': 784, 'value': [571,213], 'class': 'good'}}}, 'False': {'Crunchness <= 2.25': {'samples': 1868, 'value': [762,1106], 'class': 'good', 'True': {'samples': 243, 'value': [28,215], 'class': 'good'}}}}}.\n"
     ]
    },
    {
     "name": "stderr",
     "output_type": "stream",
     "text": [
      " 55%|█████▍    | 177/323 [06:45<29:49, 12.26s/it]"
     ]
    },
    {
     "name": "stdout",
     "output_type": "stream",
     "text": [
      "False\n",
      "A decision tree with the following configuration:{'Juiciness <= -0.3': {'samples': 2800, 'value': [1397,1403], 'class': 'good', 'True': {'Crunchness <= 2.25': {'samples': 932, 'value': [635,297], 'class': 'bad', 'True': {'samples': 148, 'value': [64,84], 'class': 'good'}, 'False': {'samples': 784, 'value': [571,213], 'class': 'good'}}}, 'False': {'Crunchness <= 2.25': {'samples': 1868, 'value': [762,1106], 'class': 'good', 'True': {'samples': 243, 'value': [28,215], 'class': 'good'}}}}}.\n"
     ]
    },
    {
     "name": "stderr",
     "output_type": "stream",
     "text": [
      " 55%|█████▌    | 178/323 [06:58<30:27, 12.60s/it]"
     ]
    },
    {
     "name": "stdout",
     "output_type": "stream",
     "text": [
      "True\n",
      "A multi-line chart showing the train and test accuracy and recall of a decision tree.\n"
     ]
    },
    {
     "name": "stderr",
     "output_type": "stream",
     "text": [
      " 59%|█████▉    | 192/323 [06:59<04:11,  1.92s/it]"
     ]
    },
    {
     "name": "stdout",
     "output_type": "stream",
     "text": [
      "False\n",
      "A bar chart showing the explained variance ration of each principal components the values are the following:[0.8,0.25,0.22,0.17,0.14,0.12,0.07,0.04].\n",
      "True\n",
      "A bar chart showing the explained variance ration of each principal components the values are the following:[0.8,0.25,0.22,0.17,0.14,0.12,0.07,0.04].\n"
     ]
    },
    {
     "name": "stderr",
     "output_type": "stream",
     "text": [
      " 64%|██████▍   | 206/323 [07:03<01:41,  1.15it/s]"
     ]
    },
    {
     "name": "stdout",
     "output_type": "stream",
     "text": [
      "False\n"
     ]
    },
    {
     "name": "stderr",
     "output_type": "stream",
     "text": [
      " 67%|██████▋   | 216/323 [07:04<00:50,  2.13it/s]"
     ]
    },
    {
     "name": "stdout",
     "output_type": "stream",
     "text": [
      "A bar chart with the following values:[2004,1996].\n"
     ]
    },
    {
     "name": "stderr",
     "output_type": "stream",
     "text": [
      " 68%|██████▊   | 219/323 [07:05<00:46,  2.24it/s]"
     ]
    },
    {
     "name": "stdout",
     "output_type": "stream",
     "text": [
      "True\n",
      "A bar chart with the following values:[4000,8].\n",
      "False\n",
      "A bar chart with the following values:[4000,8].\n"
     ]
    },
    {
     "name": "stderr",
     "output_type": "stream",
     "text": [
      " 69%|██████▉   | 223/323 [07:07<00:43,  2.31it/s]"
     ]
    },
    {
     "name": "stdout",
     "output_type": "stream",
     "text": [
      "False\n"
     ]
    },
    {
     "name": "stderr",
     "output_type": "stream",
     "text": [
      " 74%|███████▍  | 239/323 [07:23<00:07, 10.86it/s]"
     ]
    },
    {
     "name": "stdout",
     "output_type": "stream",
     "text": [
      "A decision tree with the following configuration:{'JoiningYear <= 2017.5': {'samples': 3257, 'value': [2137,1120], 'class': '0', 'True': {'ExperienceInCurrentDomain <= 3.5': {'samples': 2996, 'value': [3134,802], 'class': '0', 'True': {'samples': 1215, 'value': [1227,354], 'class': '0'}, 'False': {'samples': 44, 'value': [317,314], 'class': '1'}}}, 'False': {'ExperienceInCurrentDomain <= 3.5': {'samples': 261, 'value': [3,3,8], 'class': '1', 'True': {'samples': 217, 'value': [3,114], 'class': '1'}, 'False': {'samples': 174, 'value': [3,114], 'class': '1'}}}}}.\n"
     ]
    },
    {
     "name": "stderr",
     "output_type": "stream",
     "text": [
      " 74%|███████▍  | 240/323 [07:24<03:53,  2.81s/it]"
     ]
    },
    {
     "name": "stdout",
     "output_type": "stream",
     "text": [
      "True\n",
      "A decision tree with the following configuration:{'JoiningYear <= 2017.5': {'samples': 3257, 'value': [2137,1120], 'class': '0', 'True': {'ExperienceInCurrentDomain <= 3.5': {'samples': 2996, 'value': [3134,802], 'class': '0', 'True': {'samples': 1215, 'value': [1227,354], 'class': '0'}, 'False': {'samples': 44, 'value': [317,314], 'class': '1'}}}, 'False': {'ExperienceInCurrentDomain <= 3.5': {'samples': 261, 'value': [3,3,8], 'class': '1', 'True': {'samples': 217, 'value': [3,114], 'class': '1'}, 'False': {'samples': 174, 'value': [3,114], 'class': '1'}}}}}.\n"
     ]
    },
    {
     "name": "stderr",
     "output_type": "stream",
     "text": [
      " 75%|███████▍  | 241/323 [07:40<07:32,  5.52s/it]"
     ]
    },
    {
     "name": "stdout",
     "output_type": "stream",
     "text": [
      "True\n",
      "A decision tree with the following configuration:{'JoiningYear <= 2017.5': {'samples': 3257, 'value': [2137,1120], 'class': '0', 'True': {'ExperienceInCurrentDomain <= 3.5': {'samples': 2996, 'value': [3134,802], 'class': '0', 'True': {'samples': 1215, 'value': [1227,354], 'class': '0'}, 'False': {'samples': 44, 'value': [317,314], 'class': '1'}}}, 'False': {'ExperienceInCurrentDomain <= 3.5': {'samples': 261, 'value': [3,3,8], 'class': '1', 'True': {'samples': 217, 'value': [3,114], 'class': '1'}, 'False': {'samples': 174, 'value': [3,114], 'class': '1'}}}}}.\n"
     ]
    },
    {
     "name": "stderr",
     "output_type": "stream",
     "text": [
      " 75%|███████▍  | 242/323 [07:56<10:40,  7.91s/it]"
     ]
    },
    {
     "name": "stdout",
     "output_type": "stream",
     "text": [
      "True\n",
      "A decision tree with the following configuration:{'JoiningYear <= 2017.5': {'samples': 3257, 'value': [2137,1120], 'class': '0', 'True': {'ExperienceInCurrentDomain <= 3.5': {'samples': 2996, 'value': [3134,802], 'class': '0', 'True': {'samples': 1215, 'value': [1227,354], 'class': '0'}, 'False': {'samples': 44, 'value': [317,314], 'class': '1'}}}, 'False': {'ExperienceInCurrentDomain <= 3.5': {'samples': 261, 'value': [3,3,8], 'class': '1', 'True': {'samples': 217, 'value': [3,114], 'class': '1'}, 'False': {'samples': 174, 'value': [3,114], 'class': '1'}}}}}.\n"
     ]
    },
    {
     "name": "stderr",
     "output_type": "stream",
     "text": [
      " 75%|███████▌  | 243/323 [08:13<13:12,  9.91s/it]"
     ]
    },
    {
     "name": "stdout",
     "output_type": "stream",
     "text": [
      "True\n",
      "A decision tree with the following configuration:{'JoiningYear <= 2017.5': {'samples': 3257, 'value': [2137,1120], 'class': '0', 'True': {'ExperienceInCurrentDomain <= 3.5': {'samples': 2996, 'value': [3134,802], 'class': '0', 'True': {'samples': 1215, 'value': [1227,354], 'class': '0'}, 'False': {'samples': 44, 'value': [317,314], 'class': '1'}}}, 'False': {'ExperienceInCurrentDomain <= 3.5': {'samples': 261, 'value': [3,3,8], 'class': '1', 'True': {'samples': 217, 'value': [3,114], 'class': '1'}, 'False': {'samples': 174, 'value': [3,114], 'class': '1'}}}}}.\n"
     ]
    },
    {
     "name": "stderr",
     "output_type": "stream",
     "text": [
      " 76%|███████▌  | 244/323 [08:39<18:27, 14.02s/it]"
     ]
    },
    {
     "name": "stdout",
     "output_type": "stream",
     "text": [
      "False\n",
      "A decision tree with the following configuration:{'JoiningYear <= 2017.5': {'samples': 3257, 'value': [2137,1120], 'class': '0', 'True': {'ExperienceInCurrentDomain <= 3.5': {'samples': 2996, 'value': [3134,802], 'class': '0', 'True': {'samples': 1215, 'value': [1227,354], 'class': '0'}, 'False': {'samples': 44, 'value': [317,314], 'class': '1'}}}, 'False': {'ExperienceInCurrentDomain <= 3.5': {'samples': 261, 'value': [3,3,8], 'class': '1', 'True': {'samples': 217, 'value': [3,114], 'class': '1'}, 'False': {'samples': 174, 'value': [3,114], 'class': '1'}}}}}.\n"
     ]
    },
    {
     "name": "stderr",
     "output_type": "stream",
     "text": [
      " 76%|███████▌  | 245/323 [08:54<18:45, 14.43s/it]"
     ]
    },
    {
     "name": "stdout",
     "output_type": "stream",
     "text": [
      "False\n",
      "A decision tree with the following configuration:{'JoiningYear <= 2017.5': {'samples': 3257, 'value': [2137,1120], 'class': '0', 'True': {'ExperienceInCurrentDomain <= 3.5': {'samples': 2996, 'value': [3134,802], 'class': '0', 'True': {'samples': 1215, 'value': [1227,354], 'class': '0'}, 'False': {'samples': 44, 'value': [317,314], 'class': '1'}}}, 'False': {'ExperienceInCurrentDomain <= 3.5': {'samples': 261, 'value': [3,3,8], 'class': '1', 'True': {'samples': 217, 'value': [3,114], 'class': '1'}, 'False': {'samples': 174, 'value': [3,114], 'class': '1'}}}}}.\n"
     ]
    },
    {
     "name": "stderr",
     "output_type": "stream",
     "text": [
      " 76%|███████▌  | 246/323 [09:10<18:57, 14.78s/it]"
     ]
    },
    {
     "name": "stdout",
     "output_type": "stream",
     "text": [
      "False\n",
      "A decision tree with the following configuration:{'JoiningYear <= 2017.5': {'samples': 3257, 'value': [2137,1120], 'class': '0', 'True': {'ExperienceInCurrentDomain <= 3.5': {'samples': 2996, 'value': [3134,802], 'class': '0', 'True': {'samples': 1215, 'value': [1227,354], 'class': '0'}, 'False': {'samples': 44, 'value': [317,314], 'class': '1'}}}, 'False': {'ExperienceInCurrentDomain <= 3.5': {'samples': 261, 'value': [3,3,8], 'class': '1', 'True': {'samples': 217, 'value': [3,114], 'class': '1'}, 'False': {'samples': 174, 'value': [3,114], 'class': '1'}}}}}.\n"
     ]
    },
    {
     "name": "stderr",
     "output_type": "stream",
     "text": [
      " 76%|███████▋  | 247/323 [09:24<18:36, 14.69s/it]"
     ]
    },
    {
     "name": "stdout",
     "output_type": "stream",
     "text": [
      "True\n",
      "A decision tree with the following configuration:{'JoiningYear <= 2017.5': {'samples': 3257, 'value': [2137,1120], 'class': '0', 'True': {'ExperienceInCurrentDomain <= 3.5': {'samples': 2996, 'value': [3134,802], 'class': '0', 'True': {'samples': 1215, 'value': [1227,354], 'class': '0'}, 'False': {'samples': 44, 'value': [317,314], 'class': '1'}}}, 'False': {'ExperienceInCurrentDomain <= 3.5': {'samples': 261, 'value': [3,3,8], 'class': '1', 'True': {'samples': 217, 'value': [3,114], 'class': '1'}, 'False': {'samples': 174, 'value': [3,114], 'class': '1'}}}}}.\n"
     ]
    },
    {
     "name": "stderr",
     "output_type": "stream",
     "text": [
      " 77%|███████▋  | 248/323 [09:39<18:16, 14.63s/it]"
     ]
    },
    {
     "name": "stdout",
     "output_type": "stream",
     "text": [
      "False\n",
      "A decision tree with the following configuration:{'JoiningYear <= 2017.5': {'samples': 3257, 'value': [2137,1120], 'class': '0', 'True': {'ExperienceInCurrentDomain <= 3.5': {'samples': 2996, 'value': [3134,802], 'class': '0', 'True': {'samples': 1215, 'value': [1227,354], 'class': '0'}, 'False': {'samples': 44, 'value': [317,314], 'class': '1'}}}, 'False': {'ExperienceInCurrentDomain <= 3.5': {'samples': 261, 'value': [3,3,8], 'class': '1', 'True': {'samples': 217, 'value': [3,114], 'class': '1'}, 'False': {'samples': 174, 'value': [3,114], 'class': '1'}}}}}.\n"
     ]
    },
    {
     "name": "stderr",
     "output_type": "stream",
     "text": [
      " 77%|███████▋  | 249/323 [09:55<18:35, 15.07s/it]"
     ]
    },
    {
     "name": "stdout",
     "output_type": "stream",
     "text": [
      "False\n",
      "A decision tree with the following configuration:{'JoiningYear <= 2017.5': {'samples': 3257, 'value': [2137,1120], 'class': '0', 'True': {'ExperienceInCurrentDomain <= 3.5': {'samples': 2996, 'value': [3134,802], 'class': '0', 'True': {'samples': 1215, 'value': [1227,354], 'class': '0'}, 'False': {'samples': 44, 'value': [317,314], 'class': '1'}}}, 'False': {'ExperienceInCurrentDomain <= 3.5': {'samples': 261, 'value': [3,3,8], 'class': '1', 'True': {'samples': 217, 'value': [3,114], 'class': '1'}, 'False': {'samples': 174, 'value': [3,114], 'class': '1'}}}}}.\n"
     ]
    },
    {
     "name": "stderr",
     "output_type": "stream",
     "text": [
      " 77%|███████▋  | 250/323 [10:11<18:33, 15.25s/it]"
     ]
    },
    {
     "name": "stdout",
     "output_type": "stream",
     "text": [
      "False\n",
      "A multi-line chart showing the train and test accuracy and recall of a decision tree.\n"
     ]
    },
    {
     "name": "stderr",
     "output_type": "stream",
     "text": [
      " 82%|████████▏ | 264/323 [10:14<02:24,  2.44s/it]"
     ]
    },
    {
     "name": "stdout",
     "output_type": "stream",
     "text": [
      "False\n",
      "A bar chart showing the explained variance ration of each principal components the values are the following:[0.79,0.12,0.08,0.01].\n",
      "True\n",
      "A bar chart showing the explained variance ration of each principal components the values are the following:[0.79,0.12,0.08,0.01].\n"
     ]
    },
    {
     "name": "stderr",
     "output_type": "stream",
     "text": [
      " 86%|████████▌ | 278/323 [10:17<00:45,  1.01s/it]"
     ]
    },
    {
     "name": "stdout",
     "output_type": "stream",
     "text": [
      "False\n"
     ]
    },
    {
     "name": "stderr",
     "output_type": "stream",
     "text": [
      " 93%|█████████▎| 299/323 [10:18<00:05,  4.04it/s]"
     ]
    },
    {
     "name": "stdout",
     "output_type": "stream",
     "text": [
      "A bar chart with the following values:[3053,1600].\n"
     ]
    },
    {
     "name": "stderr",
     "output_type": "stream",
     "text": [
      " 93%|█████████▎| 302/323 [10:19<00:05,  3.65it/s]"
     ]
    },
    {
     "name": "stdout",
     "output_type": "stream",
     "text": [
      "True\n",
      "A bar chart with the following values:[4653,9].\n",
      "False\n",
      "A bar chart with the following values:[4653,9].\n"
     ]
    },
    {
     "name": "stderr",
     "output_type": "stream",
     "text": [
      " 95%|█████████▌| 307/323 [10:21<00:04,  3.42it/s]"
     ]
    },
    {
     "name": "stdout",
     "output_type": "stream",
     "text": [
      "False\n"
     ]
    },
    {
     "name": "stderr",
     "output_type": "stream",
     "text": [
      "100%|██████████| 323/323 [10:22<00:00,  1.93s/it]\n"
     ]
    }
   ],
   "source": [
    "from tqdm.auto import tqdm\n",
    "import pandas as pd\n",
    "from openai import OpenAI\n",
    "\n",
    "client = OpenAI()\n",
    "\n",
    "special = ['decision_tree','overfitting_dt_acc_rec','pca','mv','class_histogram','nr_records_nr_variables']\n",
    "\n",
    "def isSpecial(chart):\n",
    "    for i in special:\n",
    "        if i in chart:\n",
    "            return True\n",
    "    \n",
    "    return False\n",
    "\n",
    "predictions = []\n",
    "references = []\n",
    "questions = []\n",
    "for i in tqdm(range(len(dataset))):\n",
    "    if 'overfitting_decision_tree' in dataset[i]['Chart_name'] or not isSpecial(dataset[i]['Chart_name']):\n",
    "        continue\n",
    "    inputs = processor(images=dataset[i]['Chart'], return_tensors=\"pt\").to(device)\n",
    "    flattened_patches = inputs.flattened_patches\n",
    "    attention_mask = inputs.attention_mask\n",
    "    generated_ids = model.generate(flattened_patches=flattened_patches, attention_mask=attention_mask, max_length=516)\n",
    "    generated_caption = processor.batch_decode(generated_ids, skip_special_tokens=True)[0]\n",
    "    \n",
    "    chartdata = formatData(generated_caption)\n",
    "    question = dataset[i]['Question']\n",
    "        \n",
    "    inputs = []\n",
    "    inputs.append({\"role\": \"system\", \"content\": \"You are a student doing a data science exam.\"})\n",
    "    inputs.append({\"role\":\"user\", \"content\":f\"Consider the following chart \\\"{chartdata}\\\", classify the following sentence about the chart as true or false: \\\"{question}\\\".\"})\n",
    "\n",
    "    print(chartdata)\n",
    "    response = client.chat.completions.create(\n",
    "        model=\"ft:gpt-3.5-turbo-0125:personal::9YKGQaaF\",\n",
    "        messages=inputs\n",
    "    )\n",
    "    print(response.choices[0].message.content)\n",
    "    predictions.append(response.choices[0].message.content)\n",
    "    references.append(dataset[i][\"Answer\"])\n",
    "    questions.append(question)\n",
    "    "
   ]
  },
  {
   "cell_type": "code",
   "execution_count": 20,
   "metadata": {},
   "outputs": [
    {
     "ename": "KeyboardInterrupt",
     "evalue": "",
     "output_type": "error",
     "traceback": [
      "\u001b[0;31m---------------------------------------------------------------------------\u001b[0m",
      "\u001b[0;31mKeyboardInterrupt\u001b[0m                         Traceback (most recent call last)",
      "Cell \u001b[0;32mIn[20], line 6\u001b[0m\n\u001b[1;32m      4\u001b[0m j\u001b[38;5;241m=\u001b[39m\u001b[38;5;241m0\u001b[39m\n\u001b[1;32m      5\u001b[0m \u001b[38;5;28;01mfor\u001b[39;00m i \u001b[38;5;129;01min\u001b[39;00m \u001b[38;5;28mrange\u001b[39m(\u001b[38;5;28mlen\u001b[39m(dataset)):\n\u001b[0;32m----> 6\u001b[0m     \u001b[38;5;28;01mif\u001b[39;00m \u001b[38;5;124m'\u001b[39m\u001b[38;5;124moverfitting_decision_tree\u001b[39m\u001b[38;5;124m'\u001b[39m \u001b[38;5;129;01min\u001b[39;00m \u001b[43mdataset\u001b[49m\u001b[43m[\u001b[49m\u001b[43mi\u001b[49m\u001b[43m]\u001b[49m[\u001b[38;5;124m'\u001b[39m\u001b[38;5;124mChart_name\u001b[39m\u001b[38;5;124m'\u001b[39m] \u001b[38;5;129;01mor\u001b[39;00m \u001b[38;5;129;01mnot\u001b[39;00m isSpecial(dataset[i][\u001b[38;5;124m'\u001b[39m\u001b[38;5;124mChart_name\u001b[39m\u001b[38;5;124m'\u001b[39m]):\n\u001b[1;32m      7\u001b[0m         \u001b[38;5;28;01mcontinue\u001b[39;00m\n\u001b[1;32m      8\u001b[0m     \u001b[38;5;28;01mif\u001b[39;00m predictions[j] \u001b[38;5;241m==\u001b[39m \u001b[38;5;124m'\u001b[39m\u001b[38;5;124mTrue\u001b[39m\u001b[38;5;124m'\u001b[39m:\n",
      "File \u001b[0;32m~/.local/lib/python3.10/site-packages/datasets/arrow_dataset.py:2800\u001b[0m, in \u001b[0;36mDataset.__getitem__\u001b[0;34m(self, key)\u001b[0m\n\u001b[1;32m   2798\u001b[0m \u001b[38;5;28;01mdef\u001b[39;00m \u001b[38;5;21m__getitem__\u001b[39m(\u001b[38;5;28mself\u001b[39m, key):  \u001b[38;5;66;03m# noqa: F811\u001b[39;00m\n\u001b[1;32m   2799\u001b[0m \u001b[38;5;250m    \u001b[39m\u001b[38;5;124;03m\"\"\"Can be used to index columns (by string names) or rows (by integer index or iterable of indices or bools).\"\"\"\u001b[39;00m\n\u001b[0;32m-> 2800\u001b[0m     \u001b[38;5;28;01mreturn\u001b[39;00m \u001b[38;5;28;43mself\u001b[39;49m\u001b[38;5;241;43m.\u001b[39;49m\u001b[43m_getitem\u001b[49m\u001b[43m(\u001b[49m\u001b[43mkey\u001b[49m\u001b[43m)\u001b[49m\n",
      "File \u001b[0;32m~/.local/lib/python3.10/site-packages/datasets/arrow_dataset.py:2785\u001b[0m, in \u001b[0;36mDataset._getitem\u001b[0;34m(self, key, **kwargs)\u001b[0m\n\u001b[1;32m   2783\u001b[0m formatter \u001b[38;5;241m=\u001b[39m get_formatter(format_type, features\u001b[38;5;241m=\u001b[39m\u001b[38;5;28mself\u001b[39m\u001b[38;5;241m.\u001b[39m_info\u001b[38;5;241m.\u001b[39mfeatures, \u001b[38;5;241m*\u001b[39m\u001b[38;5;241m*\u001b[39mformat_kwargs)\n\u001b[1;32m   2784\u001b[0m pa_subtable \u001b[38;5;241m=\u001b[39m query_table(\u001b[38;5;28mself\u001b[39m\u001b[38;5;241m.\u001b[39m_data, key, indices\u001b[38;5;241m=\u001b[39m\u001b[38;5;28mself\u001b[39m\u001b[38;5;241m.\u001b[39m_indices \u001b[38;5;28;01mif\u001b[39;00m \u001b[38;5;28mself\u001b[39m\u001b[38;5;241m.\u001b[39m_indices \u001b[38;5;129;01mis\u001b[39;00m \u001b[38;5;129;01mnot\u001b[39;00m \u001b[38;5;28;01mNone\u001b[39;00m \u001b[38;5;28;01melse\u001b[39;00m \u001b[38;5;28;01mNone\u001b[39;00m)\n\u001b[0;32m-> 2785\u001b[0m formatted_output \u001b[38;5;241m=\u001b[39m \u001b[43mformat_table\u001b[49m\u001b[43m(\u001b[49m\n\u001b[1;32m   2786\u001b[0m \u001b[43m    \u001b[49m\u001b[43mpa_subtable\u001b[49m\u001b[43m,\u001b[49m\u001b[43m \u001b[49m\u001b[43mkey\u001b[49m\u001b[43m,\u001b[49m\u001b[43m \u001b[49m\u001b[43mformatter\u001b[49m\u001b[38;5;241;43m=\u001b[39;49m\u001b[43mformatter\u001b[49m\u001b[43m,\u001b[49m\u001b[43m \u001b[49m\u001b[43mformat_columns\u001b[49m\u001b[38;5;241;43m=\u001b[39;49m\u001b[43mformat_columns\u001b[49m\u001b[43m,\u001b[49m\u001b[43m \u001b[49m\u001b[43moutput_all_columns\u001b[49m\u001b[38;5;241;43m=\u001b[39;49m\u001b[43moutput_all_columns\u001b[49m\n\u001b[1;32m   2787\u001b[0m \u001b[43m\u001b[49m\u001b[43m)\u001b[49m\n\u001b[1;32m   2788\u001b[0m \u001b[38;5;28;01mreturn\u001b[39;00m formatted_output\n",
      "File \u001b[0;32m~/.local/lib/python3.10/site-packages/datasets/formatting/formatting.py:629\u001b[0m, in \u001b[0;36mformat_table\u001b[0;34m(table, key, formatter, format_columns, output_all_columns)\u001b[0m\n\u001b[1;32m    627\u001b[0m python_formatter \u001b[38;5;241m=\u001b[39m PythonFormatter(features\u001b[38;5;241m=\u001b[39mformatter\u001b[38;5;241m.\u001b[39mfeatures)\n\u001b[1;32m    628\u001b[0m \u001b[38;5;28;01mif\u001b[39;00m format_columns \u001b[38;5;129;01mis\u001b[39;00m \u001b[38;5;28;01mNone\u001b[39;00m:\n\u001b[0;32m--> 629\u001b[0m     \u001b[38;5;28;01mreturn\u001b[39;00m \u001b[43mformatter\u001b[49m\u001b[43m(\u001b[49m\u001b[43mpa_table\u001b[49m\u001b[43m,\u001b[49m\u001b[43m \u001b[49m\u001b[43mquery_type\u001b[49m\u001b[38;5;241;43m=\u001b[39;49m\u001b[43mquery_type\u001b[49m\u001b[43m)\u001b[49m\n\u001b[1;32m    630\u001b[0m \u001b[38;5;28;01melif\u001b[39;00m query_type \u001b[38;5;241m==\u001b[39m \u001b[38;5;124m\"\u001b[39m\u001b[38;5;124mcolumn\u001b[39m\u001b[38;5;124m\"\u001b[39m:\n\u001b[1;32m    631\u001b[0m     \u001b[38;5;28;01mif\u001b[39;00m key \u001b[38;5;129;01min\u001b[39;00m format_columns:\n",
      "File \u001b[0;32m~/.local/lib/python3.10/site-packages/datasets/formatting/formatting.py:396\u001b[0m, in \u001b[0;36mFormatter.__call__\u001b[0;34m(self, pa_table, query_type)\u001b[0m\n\u001b[1;32m    394\u001b[0m \u001b[38;5;28;01mdef\u001b[39;00m \u001b[38;5;21m__call__\u001b[39m(\u001b[38;5;28mself\u001b[39m, pa_table: pa\u001b[38;5;241m.\u001b[39mTable, query_type: \u001b[38;5;28mstr\u001b[39m) \u001b[38;5;241m-\u001b[39m\u001b[38;5;241m>\u001b[39m Union[RowFormat, ColumnFormat, BatchFormat]:\n\u001b[1;32m    395\u001b[0m     \u001b[38;5;28;01mif\u001b[39;00m query_type \u001b[38;5;241m==\u001b[39m \u001b[38;5;124m\"\u001b[39m\u001b[38;5;124mrow\u001b[39m\u001b[38;5;124m\"\u001b[39m:\n\u001b[0;32m--> 396\u001b[0m         \u001b[38;5;28;01mreturn\u001b[39;00m \u001b[38;5;28;43mself\u001b[39;49m\u001b[38;5;241;43m.\u001b[39;49m\u001b[43mformat_row\u001b[49m\u001b[43m(\u001b[49m\u001b[43mpa_table\u001b[49m\u001b[43m)\u001b[49m\n\u001b[1;32m    397\u001b[0m     \u001b[38;5;28;01melif\u001b[39;00m query_type \u001b[38;5;241m==\u001b[39m \u001b[38;5;124m\"\u001b[39m\u001b[38;5;124mcolumn\u001b[39m\u001b[38;5;124m\"\u001b[39m:\n\u001b[1;32m    398\u001b[0m         \u001b[38;5;28;01mreturn\u001b[39;00m \u001b[38;5;28mself\u001b[39m\u001b[38;5;241m.\u001b[39mformat_column(pa_table)\n",
      "File \u001b[0;32m~/.local/lib/python3.10/site-packages/datasets/formatting/formatting.py:437\u001b[0m, in \u001b[0;36mPythonFormatter.format_row\u001b[0;34m(self, pa_table)\u001b[0m\n\u001b[1;32m    435\u001b[0m     \u001b[38;5;28;01mreturn\u001b[39;00m LazyRow(pa_table, \u001b[38;5;28mself\u001b[39m)\n\u001b[1;32m    436\u001b[0m row \u001b[38;5;241m=\u001b[39m \u001b[38;5;28mself\u001b[39m\u001b[38;5;241m.\u001b[39mpython_arrow_extractor()\u001b[38;5;241m.\u001b[39mextract_row(pa_table)\n\u001b[0;32m--> 437\u001b[0m row \u001b[38;5;241m=\u001b[39m \u001b[38;5;28;43mself\u001b[39;49m\u001b[38;5;241;43m.\u001b[39;49m\u001b[43mpython_features_decoder\u001b[49m\u001b[38;5;241;43m.\u001b[39;49m\u001b[43mdecode_row\u001b[49m\u001b[43m(\u001b[49m\u001b[43mrow\u001b[49m\u001b[43m)\u001b[49m\n\u001b[1;32m    438\u001b[0m \u001b[38;5;28;01mreturn\u001b[39;00m row\n",
      "File \u001b[0;32m~/.local/lib/python3.10/site-packages/datasets/formatting/formatting.py:215\u001b[0m, in \u001b[0;36mPythonFeaturesDecoder.decode_row\u001b[0;34m(self, row)\u001b[0m\n\u001b[1;32m    214\u001b[0m \u001b[38;5;28;01mdef\u001b[39;00m \u001b[38;5;21mdecode_row\u001b[39m(\u001b[38;5;28mself\u001b[39m, row: \u001b[38;5;28mdict\u001b[39m) \u001b[38;5;241m-\u001b[39m\u001b[38;5;241m>\u001b[39m \u001b[38;5;28mdict\u001b[39m:\n\u001b[0;32m--> 215\u001b[0m     \u001b[38;5;28;01mreturn\u001b[39;00m \u001b[38;5;28;43mself\u001b[39;49m\u001b[38;5;241;43m.\u001b[39;49m\u001b[43mfeatures\u001b[49m\u001b[38;5;241;43m.\u001b[39;49m\u001b[43mdecode_example\u001b[49m\u001b[43m(\u001b[49m\u001b[43mrow\u001b[49m\u001b[43m)\u001b[49m \u001b[38;5;28;01mif\u001b[39;00m \u001b[38;5;28mself\u001b[39m\u001b[38;5;241m.\u001b[39mfeatures \u001b[38;5;28;01melse\u001b[39;00m row\n",
      "File \u001b[0;32m~/.local/lib/python3.10/site-packages/datasets/features/features.py:1929\u001b[0m, in \u001b[0;36mFeatures.decode_example\u001b[0;34m(self, example, token_per_repo_id)\u001b[0m\n\u001b[1;32m   1915\u001b[0m \u001b[38;5;28;01mdef\u001b[39;00m \u001b[38;5;21mdecode_example\u001b[39m(\u001b[38;5;28mself\u001b[39m, example: \u001b[38;5;28mdict\u001b[39m, token_per_repo_id: Optional[Dict[\u001b[38;5;28mstr\u001b[39m, Union[\u001b[38;5;28mstr\u001b[39m, \u001b[38;5;28mbool\u001b[39m, \u001b[38;5;28;01mNone\u001b[39;00m]]] \u001b[38;5;241m=\u001b[39m \u001b[38;5;28;01mNone\u001b[39;00m):\n\u001b[1;32m   1916\u001b[0m \u001b[38;5;250m    \u001b[39m\u001b[38;5;124;03m\"\"\"Decode example with custom feature decoding.\u001b[39;00m\n\u001b[1;32m   1917\u001b[0m \n\u001b[1;32m   1918\u001b[0m \u001b[38;5;124;03m    Args:\u001b[39;00m\n\u001b[0;32m   (...)\u001b[0m\n\u001b[1;32m   1926\u001b[0m \u001b[38;5;124;03m        `dict[str, Any]`\u001b[39;00m\n\u001b[1;32m   1927\u001b[0m \u001b[38;5;124;03m    \"\"\"\u001b[39;00m\n\u001b[0;32m-> 1929\u001b[0m     \u001b[38;5;28;01mreturn\u001b[39;00m {\n\u001b[1;32m   1930\u001b[0m         column_name: decode_nested_example(feature, value, token_per_repo_id\u001b[38;5;241m=\u001b[39mtoken_per_repo_id)\n\u001b[1;32m   1931\u001b[0m         \u001b[38;5;28;01mif\u001b[39;00m \u001b[38;5;28mself\u001b[39m\u001b[38;5;241m.\u001b[39m_column_requires_decoding[column_name]\n\u001b[1;32m   1932\u001b[0m         \u001b[38;5;28;01melse\u001b[39;00m value\n\u001b[1;32m   1933\u001b[0m         \u001b[38;5;28;01mfor\u001b[39;00m column_name, (feature, value) \u001b[38;5;129;01min\u001b[39;00m zip_dict(\n\u001b[1;32m   1934\u001b[0m             {key: value \u001b[38;5;28;01mfor\u001b[39;00m key, value \u001b[38;5;129;01min\u001b[39;00m \u001b[38;5;28mself\u001b[39m\u001b[38;5;241m.\u001b[39mitems() \u001b[38;5;28;01mif\u001b[39;00m key \u001b[38;5;129;01min\u001b[39;00m example}, example\n\u001b[1;32m   1935\u001b[0m         )\n\u001b[1;32m   1936\u001b[0m     }\n",
      "File \u001b[0;32m~/.local/lib/python3.10/site-packages/datasets/features/features.py:1930\u001b[0m, in \u001b[0;36m<dictcomp>\u001b[0;34m(.0)\u001b[0m\n\u001b[1;32m   1915\u001b[0m \u001b[38;5;28;01mdef\u001b[39;00m \u001b[38;5;21mdecode_example\u001b[39m(\u001b[38;5;28mself\u001b[39m, example: \u001b[38;5;28mdict\u001b[39m, token_per_repo_id: Optional[Dict[\u001b[38;5;28mstr\u001b[39m, Union[\u001b[38;5;28mstr\u001b[39m, \u001b[38;5;28mbool\u001b[39m, \u001b[38;5;28;01mNone\u001b[39;00m]]] \u001b[38;5;241m=\u001b[39m \u001b[38;5;28;01mNone\u001b[39;00m):\n\u001b[1;32m   1916\u001b[0m \u001b[38;5;250m    \u001b[39m\u001b[38;5;124;03m\"\"\"Decode example with custom feature decoding.\u001b[39;00m\n\u001b[1;32m   1917\u001b[0m \n\u001b[1;32m   1918\u001b[0m \u001b[38;5;124;03m    Args:\u001b[39;00m\n\u001b[0;32m   (...)\u001b[0m\n\u001b[1;32m   1926\u001b[0m \u001b[38;5;124;03m        `dict[str, Any]`\u001b[39;00m\n\u001b[1;32m   1927\u001b[0m \u001b[38;5;124;03m    \"\"\"\u001b[39;00m\n\u001b[1;32m   1929\u001b[0m     \u001b[38;5;28;01mreturn\u001b[39;00m {\n\u001b[0;32m-> 1930\u001b[0m         column_name: \u001b[43mdecode_nested_example\u001b[49m\u001b[43m(\u001b[49m\u001b[43mfeature\u001b[49m\u001b[43m,\u001b[49m\u001b[43m \u001b[49m\u001b[43mvalue\u001b[49m\u001b[43m,\u001b[49m\u001b[43m \u001b[49m\u001b[43mtoken_per_repo_id\u001b[49m\u001b[38;5;241;43m=\u001b[39;49m\u001b[43mtoken_per_repo_id\u001b[49m\u001b[43m)\u001b[49m\n\u001b[1;32m   1931\u001b[0m         \u001b[38;5;28;01mif\u001b[39;00m \u001b[38;5;28mself\u001b[39m\u001b[38;5;241m.\u001b[39m_column_requires_decoding[column_name]\n\u001b[1;32m   1932\u001b[0m         \u001b[38;5;28;01melse\u001b[39;00m value\n\u001b[1;32m   1933\u001b[0m         \u001b[38;5;28;01mfor\u001b[39;00m column_name, (feature, value) \u001b[38;5;129;01min\u001b[39;00m zip_dict(\n\u001b[1;32m   1934\u001b[0m             {key: value \u001b[38;5;28;01mfor\u001b[39;00m key, value \u001b[38;5;129;01min\u001b[39;00m \u001b[38;5;28mself\u001b[39m\u001b[38;5;241m.\u001b[39mitems() \u001b[38;5;28;01mif\u001b[39;00m key \u001b[38;5;129;01min\u001b[39;00m example}, example\n\u001b[1;32m   1935\u001b[0m         )\n\u001b[1;32m   1936\u001b[0m     }\n",
      "File \u001b[0;32m~/.local/lib/python3.10/site-packages/datasets/features/features.py:1339\u001b[0m, in \u001b[0;36mdecode_nested_example\u001b[0;34m(schema, obj, token_per_repo_id)\u001b[0m\n\u001b[1;32m   1336\u001b[0m \u001b[38;5;28;01melif\u001b[39;00m \u001b[38;5;28misinstance\u001b[39m(schema, (Audio, Image)):\n\u001b[1;32m   1337\u001b[0m     \u001b[38;5;66;03m# we pass the token to read and decode files from private repositories in streaming mode\u001b[39;00m\n\u001b[1;32m   1338\u001b[0m     \u001b[38;5;28;01mif\u001b[39;00m obj \u001b[38;5;129;01mis\u001b[39;00m \u001b[38;5;129;01mnot\u001b[39;00m \u001b[38;5;28;01mNone\u001b[39;00m \u001b[38;5;129;01mand\u001b[39;00m schema\u001b[38;5;241m.\u001b[39mdecode:\n\u001b[0;32m-> 1339\u001b[0m         \u001b[38;5;28;01mreturn\u001b[39;00m \u001b[43mschema\u001b[49m\u001b[38;5;241;43m.\u001b[39;49m\u001b[43mdecode_example\u001b[49m\u001b[43m(\u001b[49m\u001b[43mobj\u001b[49m\u001b[43m,\u001b[49m\u001b[43m \u001b[49m\u001b[43mtoken_per_repo_id\u001b[49m\u001b[38;5;241;43m=\u001b[39;49m\u001b[43mtoken_per_repo_id\u001b[49m\u001b[43m)\u001b[49m\n\u001b[1;32m   1340\u001b[0m \u001b[38;5;28;01mreturn\u001b[39;00m obj\n",
      "File \u001b[0;32m~/.local/lib/python3.10/site-packages/datasets/features/image.py:185\u001b[0m, in \u001b[0;36mImage.decode_example\u001b[0;34m(self, value, token_per_repo_id)\u001b[0m\n\u001b[1;32m    183\u001b[0m \u001b[38;5;28;01melse\u001b[39;00m:\n\u001b[1;32m    184\u001b[0m     image \u001b[38;5;241m=\u001b[39m PIL\u001b[38;5;241m.\u001b[39mImage\u001b[38;5;241m.\u001b[39mopen(BytesIO(bytes_))\n\u001b[0;32m--> 185\u001b[0m \u001b[43mimage\u001b[49m\u001b[38;5;241;43m.\u001b[39;49m\u001b[43mload\u001b[49m\u001b[43m(\u001b[49m\u001b[43m)\u001b[49m  \u001b[38;5;66;03m# to avoid \"Too many open files\" errors\u001b[39;00m\n\u001b[1;32m    186\u001b[0m \u001b[38;5;28;01mreturn\u001b[39;00m image\n",
      "File \u001b[0;32m~/.local/lib/python3.10/site-packages/PIL/ImageFile.py:291\u001b[0m, in \u001b[0;36mImageFile.load\u001b[0;34m(self)\u001b[0m\n\u001b[1;32m    288\u001b[0m         \u001b[38;5;28;01mraise\u001b[39;00m \u001b[38;5;167;01mOSError\u001b[39;00m(msg)\n\u001b[1;32m    290\u001b[0m b \u001b[38;5;241m=\u001b[39m b \u001b[38;5;241m+\u001b[39m s\n\u001b[0;32m--> 291\u001b[0m n, err_code \u001b[38;5;241m=\u001b[39m \u001b[43mdecoder\u001b[49m\u001b[38;5;241;43m.\u001b[39;49m\u001b[43mdecode\u001b[49m\u001b[43m(\u001b[49m\u001b[43mb\u001b[49m\u001b[43m)\u001b[49m\n\u001b[1;32m    292\u001b[0m \u001b[38;5;28;01mif\u001b[39;00m n \u001b[38;5;241m<\u001b[39m \u001b[38;5;241m0\u001b[39m:\n\u001b[1;32m    293\u001b[0m     \u001b[38;5;28;01mbreak\u001b[39;00m\n",
      "\u001b[0;31mKeyboardInterrupt\u001b[0m: "
     ]
    }
   ],
   "source": [
    "import pandas as pd\n",
    "\n",
    "new_df = pd.DataFrame(columns=['Image','Question','Prediction','Reference'])\n",
    "j=0\n",
    "for i in tqdm(range(len(dataset))):\n",
    "    if 'overfitting_decision_tree' in dataset[i]['Chart_name'] or not isSpecial(dataset[i]['Chart_name']):\n",
    "        continue\n",
    "    if predictions[j] == 'True':\n",
    "        pred = 'T'\n",
    "    elif predictions[j] == 'False':\n",
    "        pred = 'F'\n",
    "    else:\n",
    "        pred = '?'\n",
    "    new_df.loc[len(new_df)] = {'Image': dataset[i]['Chart_name'], 'Question': questions[j], 'Prediction': pred, 'Reference': references[j]}\n",
    "    j+=1\n",
    "    \n",
    "new_df.to_csv(f'./results/{filetag}.csv', sep=\";\", index=False)"
   ]
  }
 ],
 "metadata": {
  "kernelspec": {
   "display_name": "Python 3",
   "language": "python",
   "name": "python3"
  },
  "language_info": {
   "codemirror_mode": {
    "name": "ipython",
    "version": 3
   },
   "file_extension": ".py",
   "mimetype": "text/x-python",
   "name": "python",
   "nbconvert_exporter": "python",
   "pygments_lexer": "ipython3",
   "version": "3.10.15"
  }
 },
 "nbformat": 4,
 "nbformat_minor": 2
}
