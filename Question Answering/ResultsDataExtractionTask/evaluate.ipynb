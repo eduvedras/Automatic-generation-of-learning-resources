{
 "cells": [
  {
   "cell_type": "code",
   "execution_count": 14,
   "metadata": {},
   "outputs": [
    {
     "name": "stdout",
     "output_type": "stream",
     "text": [
      "[\"{'Pclass <= 2.5': {'samples': 498, 'value': [297,201], 'class': '0', 'True': {'Parch <= 0.5': {'samples': 253, 'value': [115,138], 'class': '1', 'True': {'samples': 181, 'value': [94,87], 'class': '0'}, 'False': {'samples': 72, 'value': [21,51], 'class': '1'}}}, 'False': {'Parch <= 0.5': {'samples': 245, 'value': [182,63], 'class': '0', 'True': {'samples': 188, 'value': [144,44], 'class': '0'}, 'False': {'samples': 57, 'value': [38,19], 'class': '0'}}}}}\", 'acc_rec', '[0.93,0.07,0.00,0.00,0.00]', \"{'Age': 177, 'Embarked': 2}\", '[549,342]', '[891,8]', \"{'Juiciness <= -0.3': {'samples': 2800, 'value': [1397,1403], 'class': 'good', 'True': {'Crunchiness <= 2.25': {'samples': 932, 'value': [635,297], 'class': 'bad', 'True': {'samples': 148, 'value': [64,84], 'class': 'good'}, 'False': {'samples': 784, 'value': [571,213], 'class': 'bad'}}}, 'False': {'Crunchiness <= 2.25': {'samples': 1868, 'value': [762,1106], 'class': 'good', 'True': {'samples': 1625, 'value': [734,891], 'class': 'good'}, 'False': {'samples': 243, 'value': [28,215], 'class': 'good'}}}}}\", 'acc_rec', '[0.25,0.22,0.17,0.14,0.12,0.07,0.04]', '[2004,1996]', '[4000,8]', \"{'JoiningYear <= 2017.5': {'samples': 3257, 'value': [2137,1120], 'class': '0', 'True': {'ExperienceInCurrentDomain <= 3.5': {'samples': 2996, 'value': [2134,862], 'class': '0', 'True': {'samples': 1781, 'value': [1227,554], 'class': '0'}, 'False': {'samples': 1215, 'value': [907,308], 'class': '0'}}}, 'False': {'ExperienceInCurrentDomain <= 3.5': {'samples': 261, 'value': [3,258], 'class': '1', 'True': {'samples': 44, 'value': [0,44], 'class': '1'}, 'False': {'samples': 217, 'value': [3,214], 'class': '1'}}}}}\", 'acc_rec', '[0.79,0.12,0.08,0.01]', '[3053,1600]', '[4653,9]']\n"
     ]
    }
   ],
   "source": [
    "import pandas as pd\n",
    "\n",
    "filetag=\"pix2struct-chart-data-best\"\n",
    "predictions = []\n",
    "references = []\n",
    "df = pd.read_csv(f'./{filetag}.csv', sep=';')\n",
    "i=0\n",
    "for index,row in df.iterrows():\n",
    "    predictions.append(row['Prediction'])\n",
    "    references.append(row['Reference'])\n",
    "    i+=1\n",
    "    \n",
    "print(references)\n"
   ]
  },
  {
   "cell_type": "code",
   "execution_count": 15,
   "metadata": {},
   "outputs": [
    {
     "name": "stdout",
     "output_type": "stream",
     "text": [
      "{'bleu': 0.885422791756088, 'precisions': [0.9694989106753813, 0.9367945823927766, 0.9063231850117096, 0.8734793187347932], 'brevity_penalty': 0.9615432950878906, 'length_ratio': 0.9622641509433962, 'translation_length': 459, 'reference_length': 477}\n"
     ]
    },
    {
     "name": "stderr",
     "output_type": "stream",
     "text": [
      "[nltk_data] Downloading package wordnet to\n",
      "[nltk_data]     /home/eduvedras/nltk_data...\n",
      "[nltk_data]   Package wordnet is already up-to-date!\n",
      "[nltk_data] Downloading package punkt to /home/eduvedras/nltk_data...\n",
      "[nltk_data]   Package punkt is already up-to-date!\n",
      "[nltk_data] Downloading package omw-1.4 to\n",
      "[nltk_data]     /home/eduvedras/nltk_data...\n",
      "[nltk_data]   Package omw-1.4 is already up-to-date!\n"
     ]
    },
    {
     "name": "stdout",
     "output_type": "stream",
     "text": [
      "{'meteor': 0.8301508934735939}\n",
      "{'rouge1': 0.9503800266472868, 'rouge2': 0.9118586739157606, 'rougeL': 0.946431383236434, 'rougeLsum': 0.9451353561046512}\n"
     ]
    }
   ],
   "source": [
    "import evaluate\n",
    "file = open(f\"{filetag}.txt\", \"a\")\n",
    "\n",
    "bleu = evaluate.load(\"bleu\")\n",
    "results = bleu.compute(predictions=predictions, references=references)\n",
    "print(results)\n",
    "file.write(f\"BLEU: {results}\\n\")\n",
    "\n",
    "meteor = evaluate.load(\"meteor\")\n",
    "results = meteor.compute(predictions=predictions, references=references)\n",
    "print(results)\n",
    "file.write(f\"METEOR: {results}\\n\")\n",
    "\n",
    "rouge = evaluate.load(\"rouge\")\n",
    "results = rouge.compute(predictions=predictions, references=references)\n",
    "print(results)\n",
    "file.write(f\"ROUGE: {results}\\n\")\n",
    "file.close()"
   ]
  }
 ],
 "metadata": {
  "kernelspec": {
   "display_name": "Python 3",
   "language": "python",
   "name": "python3"
  },
  "language_info": {
   "codemirror_mode": {
    "name": "ipython",
    "version": 3
   },
   "file_extension": ".py",
   "mimetype": "text/x-python",
   "name": "python",
   "nbconvert_exporter": "python",
   "pygments_lexer": "ipython3",
   "version": "3.10.14"
  }
 },
 "nbformat": 4,
 "nbformat_minor": 2
}
