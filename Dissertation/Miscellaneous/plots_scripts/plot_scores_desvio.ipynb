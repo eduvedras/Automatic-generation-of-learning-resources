{
 "cells": [
  {
   "cell_type": "code",
   "execution_count": 1,
   "metadata": {},
   "outputs": [
    {
     "name": "stdout",
     "output_type": "stream",
     "text": [
      "    QId  Score  Possible to answer  Original Unnamed: 4 Answer\n",
      "64  64;      1                   1       NaN        NaN      F\n",
      "gpt3.5-finetuned.csv:7\n",
      "4.43\n",
      "0.9220944504547136\n",
      "0.07\n",
      "0.89\n",
      "     QId  Score  Possible to answer  Original                  Unnamed: 4  \\\n",
      "37  131;      1                   1       1.0             non-interesting   \n",
      "47  141;      1                   1       1.0  spread instead of variance   \n",
      "82  176;      1                   1       NaN      contradictory sentence   \n",
      "\n",
      "   Answer  \n",
      "37      T  \n",
      "47      F  \n",
      "82      F  \n",
      "mistral-zeroshot.csv:45\n",
      "3.29\n",
      "1.3590387584562653\n",
      "0.48\n",
      "0.83\n",
      "     QId  Score  Possible to answer  Original Unnamed: 4 Answer\n",
      "78  266;      1                   1       NaN        NaN      T\n",
      "gpt3.5-zeroshot.csv:33\n",
      "3.84\n",
      "1.2492421945347751\n",
      "0.35\n",
      "0.94\n",
      "Empty DataFrame\n",
      "Columns: [QId, Score, Possible to answer, Original, Unnamed: 4, Answer]\n",
      "Index: []\n",
      "mistral-finetuned.csv:16\n",
      "3.46\n",
      "1.1756677323875253\n",
      "0.17\n",
      "0.74\n",
      "Empty DataFrame\n",
      "Columns: [QId, Score, Possible to answer, Original, Unnamed: 4, Answer]\n",
      "Index: []\n",
      "final-model.csv:7\n",
      "4.4\n",
      "0.8963307185292357\n",
      "0.07\n",
      "0.88\n"
     ]
    }
   ],
   "source": [
    "import pandas as pd\n",
    "from matplotlib.pyplot import figure, savefig, show, subplots\n",
    "import os\n",
    "import math\n",
    "#dfa = pd.read_csv(\"./gpt3.5-zeroshot.csv\", sep=';')\n",
    "#print(dfa['Original'].value_counts()['1'])\n",
    "\n",
    "def aux(param):\n",
    "    if type(param) == str:\n",
    "        return int(param)\n",
    "    if math.isnan(param):\n",
    "        return param\n",
    "    return int(param)\n",
    "    \n",
    "\n",
    "file_tag = 'scores'\n",
    "dic = {}\n",
    "directory = \"../\"\n",
    "for file in os.scandir(directory):\n",
    "    if file.is_file():\n",
    "        if \"csv\" in file.name:\n",
    "            df = pd.read_csv(file.path, sep=';')\n",
    "            \n",
    "            df['Original'] = df['Original'].apply(aux)\n",
    "            \n",
    "            filtered_df = df[df['Possible to answer'] == 1]\n",
    "            filtered_df = filtered_df[filtered_df['Score'] != 1]\n",
    "            \n",
    "            score_mean = round(filtered_df.loc[:, 'Score'].mean(), 2)\n",
    "            \n",
    "            score_std = filtered_df.loc[:, 'Score'].std()\n",
    "            \n",
    "            originals = df['Original'].value_counts()[1]\n",
    "            print(file.name + \":\" + str(originals))\n",
    "            \n",
    "            original_percentage = round((originals*1)/len(df), 2)\n",
    "            \n",
    "            possibles = df['Possible to answer'].value_counts()[1] \n",
    "            \n",
    "            possibles_percentage = round((possibles*1)/len(df), 2)\n",
    "            #answers = df['Answer'].value_counts()['T']\n",
    "            \n",
    "            print(score_mean)\n",
    "            print(score_std)\n",
    "            print(original_percentage)\n",
    "            print(possibles_percentage)\n",
    "            dic[file.name[:-4]] = {'Score': score_mean, 'ScoreStd': score_std, 'Original Sentences': original_percentage, 'Possible to answer': possibles_percentage}\n"
   ]
  },
  {
   "cell_type": "code",
   "execution_count": 3,
   "metadata": {},
   "outputs": [
    {
     "name": "stdout",
     "output_type": "stream",
     "text": [
      "{'Score': [4.43, 3.29, 3.84, 3.46, 4.4]}\n",
      "[0.9220944504547136, 1.3590387584562653, 1.2492421945347751, 1.1756677323875253, 0.8963307185292357]\n"
     ]
    },
    {
     "data": {
      "image/png": "[encoded data removed]",
      "text/plain": [
       "<Figure size 640x480 with 1 Axes>"
      ]
     },
     "metadata": {},
     "output_type": "display_data"
    }
   ],
   "source": [
    "import numpy as np\n",
    "import matplotlib.pyplot as plt\n",
    "\n",
    "results = {'Score':[]}#'Original Sentences':[], 'Possible to answer':[]}\n",
    "stds = []\n",
    "models = []\n",
    "   \n",
    "for key in dic:\n",
    "    models.append(key)\n",
    "    results['Score'].append(dic[key]['Score'])\n",
    "    stds.append(dic[key]['ScoreStd'])\n",
    "    #results['Original Sentences'].append(round(dic[key]['Original Sentences'],2))\n",
    "    #results['Possible to answer'].append(round(dic[key]['Possible to answer'],2))\n",
    "print(results)\n",
    "print(stds)\n",
    "\n",
    "\n",
    "x = np.arange(len(models))  # the label locations\n",
    "width = 0.25  # the width of the bars\n",
    "multiplier = 0\n",
    "\n",
    "fig, ax = plt.subplots(layout='constrained')\n",
    "multiplier = 1\n",
    "for attribute, measurement in results.items():\n",
    "    offset = width * multiplier\n",
    "    rects = ax.bar(x + offset, measurement, width, label=attribute,yerr=stds, capsize=5, color = '#f0d484', zorder=3)\n",
    "    ax.bar_label(rects, padding=3,fontsize=8, label_type=\"center\")\n",
    "    multiplier += 1\n",
    "\n",
    "# Add some text for labels, title and custom x-axis tick labels, etc.\n",
    "ax.set_ylabel('Score')\n",
    "ax.set_title('Score by model')\n",
    "ax.set_xticks(x + width, models)\n",
    "ax.legend(loc='upper left', ncols=1,fontsize='xx-small')\n",
    "ax.set_ylim(0, 5)\n",
    "ax.tick_params(axis=\"x\", labelrotation=0, labelsize=\"xx-small\")\n",
    "ax.grid(zorder=0, axis='y')\n",
    "\n",
    "savefig(f\"/home/eduvedras/tese/model/thesisplots/{file_tag}.png\", bbox_inches='tight')\n",
    "show()"
   ]
  }
 ],
 "metadata": {
  "kernelspec": {
   "display_name": "Python 3",
   "language": "python",
   "name": "python3"
  },
  "language_info": {
   "codemirror_mode": {
    "name": "ipython",
    "version": 3
   },
   "file_extension": ".py",
   "mimetype": "text/x-python",
   "name": "python",
   "nbconvert_exporter": "python",
   "pygments_lexer": "ipython3",
   "version": "3.10.14"
  }
 },
 "nbformat": 4,
 "nbformat_minor": 2
}
