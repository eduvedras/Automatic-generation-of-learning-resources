{
 "cells": [
  {
   "cell_type": "code",
   "execution_count": 9,
   "metadata": {},
   "outputs": [],
   "source": [
    "import matplotlib.pyplot as plt\n",
    "from pandas import read_csv, DataFrame, Series\n",
    "from matplotlib.pyplot import gca\n",
    "\n",
    "\n",
    "from matplotlib.pyplot import figure, savefig, show, subplots\n",
    "from dslabs_functions import plot_bar_chart, get_variable_types, set_chart_labels, define_grid, HEIGHT, plot_multi_scatters_chart\n",
    "\n",
    "from seaborn import heatmap\n",
    "from numpy import array, ndarray\n",
    "from matplotlib.figure import Figure\n",
    "\n",
    "file_tag = \"templates\"\n",
    "\n",
    "import matplotlib.pyplot as plt\n",
    "import numpy as np\n",
    "\n",
    "#models = (\"gpt3.5-finetuned-small\", \"gpt3.5-finetuned\", \"gpt3.5-zeroshot\",\"mistral-finetuned\",\"mistral-zeroshot\")\n",
    "#results = {\n",
    "#    'BLEU': [],\n",
    "#    'METEOR': [],\n",
    "#    'ROUGE': [],\n",
    "#}\n",
    "\n",
    "results = {'Accuracy': []}\n",
    "\n",
    "dic = {}\n",
    "import os\n",
    "directory = \"./vars\"\n",
    "for file in os.scandir(directory):\n",
    "    if file.is_file():\n",
    "        if \"txt\" in file.name and 'git' not in file.name:\n",
    "            f = open(file.path, \"r\")\n",
    "            line = f.readline()\n",
    "            bleu = line.split(\": \")[2]\n",
    "            bleu = bleu.split(\",\")[0]\n",
    "            line = f.readline()\n",
    "            meteor = line.split(\": \")[2]\n",
    "            meteor = meteor.split(\"}\")[0]\n",
    "            line = f.readline()\n",
    "            rouge = line.split(\"Lsum': \")[1]\n",
    "            rouge = rouge.split(\"}\")[0]\n",
    "            dic[file.name[:-4]] = {'BLEU': float(bleu), 'METEOR': float(meteor), 'ROUGE': float(rouge)}\n"
   ]
  },
  {
   "cell_type": "code",
   "execution_count": 10,
   "metadata": {},
   "outputs": [
    {
     "name": "stdout",
     "output_type": "stream",
     "text": [
      "{'Accuracy': [93, 100]}\n"
     ]
    },
    {
     "data": {
      "image/png": "[encoded data removed]",
      "text/plain": [
       "<Figure size 600x450 with 1 Axes>"
      ]
     },
     "metadata": {},
     "output_type": "display_data"
    }
   ],
   "source": [
    "models = [] \n",
    "models.append('Pix2Struct')\n",
    "models.append('GiT')\n",
    "\n",
    "#for key in dic:\n",
    "    #models.append(key)\n",
    "    #results['BLEU'].append(round(dic[key]['BLEU'],2))\n",
    "    #results['METEOR'].append(round(dic[key]['METEOR'],2))\n",
    "    #results['ROUGE'].append(round(dic[key]['ROUGE'],2))\n",
    "\n",
    "results['Accuracy'].append(93)\n",
    "results['Accuracy'].append(100)\n",
    "    \n",
    "print(results)\n",
    "\n",
    "\n",
    "x = np.arange(len(models))  # the label locations\n",
    "width = 0.25  # the width of the bars\n",
    "multiplier = 1\n",
    "\n",
    "fig, ax = plt.subplots(layout='constrained')\n",
    "\n",
    "for attribute, measurement in results.items():\n",
    "    offset = width * multiplier\n",
    "    rects = ax.bar(x + offset, measurement, width, label=attribute, color = '#f0d484')\n",
    "    ax.bar_label(rects, padding=3,fontsize=5)\n",
    "    multiplier += 1\n",
    "\n",
    "# Add some text for labels, title and custom x-axis tick labels, etc.\n",
    "ax.set_ylabel('Percentage')\n",
    "ax.set_title('Accuracy by model')\n",
    "ax.set_xticks(x + width, models)\n",
    "ax.legend(loc='lower left', ncols=1,fontsize='xx-small')\n",
    "ax.set_ylim(0, 100)\n",
    "ax.tick_params(axis=\"x\", labelrotation=0, labelsize=\"xx-small\")\n",
    "\n",
    "\n",
    "savefig(f\"../thesisplots/{file_tag}.png\", bbox_inches='tight')\n",
    "show()"
   ]
  }
 ],
 "metadata": {
  "kernelspec": {
   "display_name": "Python 3",
   "language": "python",
   "name": "python3"
  },
  "language_info": {
   "codemirror_mode": {
    "name": "ipython",
    "version": 3
   },
   "file_extension": ".py",
   "mimetype": "text/x-python",
   "name": "python",
   "nbconvert_exporter": "python",
   "pygments_lexer": "ipython3",
   "version": "3.10.14"
  }
 },
 "nbformat": 4,
 "nbformat_minor": 2
}
