{
 "cells": [
  {
   "cell_type": "code",
   "execution_count": 7,
   "metadata": {},
   "outputs": [],
   "source": [
    "def accuracy(tp,fp,tn,fn):\n",
    "    return round((tp+tn)/(tp+fp+tn+fn),2)\n",
    "\n",
    "def recall(tp,fn):\n",
    "    return round(tp/(tp+fn),2)\n",
    "\n",
    "def precision(tp,fp):\n",
    "    return round(tp/(tp+fp),2)\n",
    "\n",
    "def specificity(tn,fp):\n",
    "    return round(tn/(tn+fp),2)\n",
    "\n",
    "def f1score(precision,recall):\n",
    "    return round((2*precision*recall)/(precision+recall),2)"
   ]
  },
  {
   "cell_type": "code",
   "execution_count": 8,
   "metadata": {},
   "outputs": [],
   "source": [
    "import pandas as pd\n",
    "import os\n",
    "directory = './'\n",
    "models = []\n",
    "results = {\n",
    "    'Accuracy':[],\n",
    "    'Recall':[],\n",
    "    'Precision':[],\n",
    "    'Specificity':[],\n",
    "    'F1Score':[]\n",
    "}\n",
    "for file in os.scandir(directory):\n",
    "    if file.is_file():\n",
    "        if \"csv\" in file.name:\n",
    "            filetag = file.name[:-4]\n",
    "            df = pd.read_csv(f\"{filetag}.csv\",sep=\";\")\n",
    "\n",
    "            tp=0\n",
    "            fp=0\n",
    "            tn=0\n",
    "            fn=0\n",
    "    \n",
    "            for index,row in df.iterrows():\n",
    "                if row['Prediction'] == 'T' and row['Reference'] == 'T':\n",
    "                    tp += 1\n",
    "                elif row['Prediction'] == 'T' and row['Reference'] == 'F':\n",
    "                    fp += 1\n",
    "                elif row['Prediction'] == 'F' and row['Reference'] == 'T':\n",
    "                    fn += 1\n",
    "                elif row['Prediction'] == 'F' and row['Reference'] == 'F':\n",
    "                    tn += 1\n",
    "            models.insert(0, filetag)\n",
    "            results['Accuracy'].insert(0,accuracy(tp,fp,tn,fn))\n",
    "            results['Recall'].insert(0,recall(tp,fn))\n",
    "            results['Precision'].insert(0,precision(tp,fp))\n",
    "            results['Specificity'].insert(0,specificity(tn,fp))\n",
    "            results['F1Score'].insert(0,f1score(precision(tp,fp),recall(tp,fn)))"
   ]
  },
  {
   "cell_type": "code",
   "execution_count": 9,
   "metadata": {},
   "outputs": [
    {
     "data": {
      "image/png": "[encoded data removed]",
      "text/plain": [
       "<Figure size 640x480 with 1 Axes>"
      ]
     },
     "metadata": {},
     "output_type": "display_data"
    }
   ],
   "source": [
    "import matplotlib.pyplot as plt\n",
    "from pandas import read_csv, DataFrame, Series\n",
    "from matplotlib.pyplot import gca\n",
    "\n",
    "from matplotlib.pyplot import figure, savefig, show, subplots\n",
    "from seaborn import heatmap\n",
    "from numpy import array, ndarray\n",
    "from matplotlib.figure import Figure\n",
    "\n",
    "file_tag = \"comparisongpt\"\n",
    "import numpy as np\n",
    "\n",
    "\n",
    "x = np.arange(len(models))  # the label locations\n",
    "width = 0.1  # the width of the bars\n",
    "multiplier = -1\n",
    "\n",
    "fig, ax = plt.subplots(layout='constrained')\n",
    "\n",
    "for attribute, measurement in results.items():\n",
    "    offset = width * multiplier\n",
    "    rects = ax.bar(x + offset, measurement, width, label=attribute)\n",
    "    ax.bar_label(rects, padding=3,fontsize=5)\n",
    "    multiplier += 1\n",
    "\n",
    "# Add some text for labels, title and custom x-axis tick labels, etc.\n",
    "ax.set_ylabel('Score')\n",
    "ax.set_title('Scores by model')\n",
    "ax.set_xticks(x + width, models)\n",
    "ax.legend(loc='lower left', ncols=1,fontsize='xx-small')\n",
    "ax.set_ylim(0, 1)\n",
    "ax.tick_params(axis=\"x\", labelrotation=0, labelsize=\"xx-small\")\n",
    "\n",
    "\n",
    "savefig(f\"{file_tag}.png\", bbox_inches='tight')\n",
    "show()"
   ]
  }
 ],
 "metadata": {
  "kernelspec": {
   "display_name": "Python 3",
   "language": "python",
   "name": "python3"
  },
  "language_info": {
   "codemirror_mode": {
    "name": "ipython",
    "version": 3
   },
   "file_extension": ".py",
   "mimetype": "text/x-python",
   "name": "python",
   "nbconvert_exporter": "python",
   "pygments_lexer": "ipython3",
   "version": "3.10.15"
  }
 },
 "nbformat": 4,
 "nbformat_minor": 2
}
