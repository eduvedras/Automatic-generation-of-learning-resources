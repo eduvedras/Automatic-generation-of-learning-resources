{
 "cells": [
  {
   "cell_type": "code",
   "execution_count": 7,
   "metadata": {},
   "outputs": [
    {
     "name": "stderr",
     "output_type": "stream",
     "text": [
      "Downloading builder script: 100%|██████████| 3.75k/3.75k [00:00<00:00, 4.41MB/s]\n",
      "Generating train split: 224 examples [00:14, 15.41 examples/s]\n",
      "Generating test split: 8 examples [00:00, 11.53 examples/s]\n"
     ]
    },
    {
     "data": {
      "text/plain": [
       "166"
      ]
     },
     "execution_count": 7,
     "metadata": {},
     "output_type": "execute_result"
    }
   ],
   "source": [
    "from datasets import load_dataset\n",
    "import pandas as pd\n",
    "\n",
    "import torch\n",
    "torch.cuda.empty_cache()\n",
    "\n",
    "dataset = load_dataset('eduvedras/Img_Vars',trust_remote_code=True)\n",
    "'''\n",
    "meta = pd.read_csv('desc_dataset.csv', sep=';')\n",
    "\n",
    "for index, row in meta.iterrows():\n",
    "    if row['Chart'] not in dataset['train']['Chart_name']:\n",
    "        print(row['Chart'])'''\n",
    "\n",
    "dataset\n",
    "max = 0\n",
    "for i in range(len(dataset['train'])):\n",
    "    l = len(dataset['train'][i]['Description'])\n",
    "    if l > max:\n",
    "        max = l\n",
    "\n",
    "max"
   ]
  },
  {
   "cell_type": "code",
   "execution_count": 12,
   "metadata": {},
   "outputs": [
    {
     "data": {
      "text/plain": [
       "{'Chart': <PIL.PngImagePlugin.PngImageFile image mode=RGBA size=1800x1200>,\n",
       " 'Description': 'Pclass, Age, SibSp, Parch, Fare',\n",
       " 'Chart_name': 'Titanic_boxplots.png'}"
      ]
     },
     "execution_count": 12,
     "metadata": {},
     "output_type": "execute_result"
    }
   ],
   "source": [
    "dataset['test'][1]"
   ]
  },
  {
   "cell_type": "code",
   "execution_count": 1,
   "metadata": {},
   "outputs": [],
   "source": [
    "import tarfile\n",
    "\n",
    "with tarfile.open('images.tar.gz', 'w:gz') as tar:\n",
    "    tar.add('./images')"
   ]
  }
 ],
 "metadata": {
  "kernelspec": {
   "display_name": "Python 3",
   "language": "python",
   "name": "python3"
  },
  "language_info": {
   "codemirror_mode": {
    "name": "ipython",
    "version": 3
   },
   "file_extension": ".py",
   "mimetype": "text/x-python",
   "name": "python",
   "nbconvert_exporter": "python",
   "pygments_lexer": "ipython3",
   "version": "3.10.13"
  }
 },
 "nbformat": 4,
 "nbformat_minor": 2
}
