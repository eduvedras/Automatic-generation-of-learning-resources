{
 "cells": [
  {
   "cell_type": "code",
   "execution_count": 1,
   "metadata": {},
   "outputs": [
    {
     "name": "stderr",
     "output_type": "stream",
     "text": [
      "/usr/lib/python3/dist-packages/requests/__init__.py:89: RequestsDependencyWarning: urllib3 (2.2.0) or chardet (3.0.4) doesn't match a supported version!\n",
      "  warnings.warn(\"urllib3 ({}) or chardet ({}) doesn't match a supported \"\n",
      "/home/eduvedras/.local/lib/python3.10/site-packages/tqdm/auto.py:21: TqdmWarning: IProgress not found. Please update jupyter and ipywidgets. See https://ipywidgets.readthedocs.io/en/stable/user_install.html\n",
      "  from .autonotebook import tqdm as notebook_tqdm\n",
      "Using the latest cached version of the module from /home/eduvedras/.cache/huggingface/modules/datasets_modules/datasets/eduvedras--Img_Desc/f57621a38b72ab4254136854f6a0ce5efc5e139c85b37bc244fbba77fc0b8100 (last modified on Mon Feb 26 11:54:59 2024) since it couldn't be found locally at eduvedras/Img_Desc, or remotely on the Hugging Face Hub.\n"
     ]
    },
    {
     "name": "stdout",
     "output_type": "stream",
     "text": [
      "Titanic_decision_tree.png\n",
      "Titanic_overfitting_mlp.png\n",
      "Titanic_overfitting_gb.png\n",
      "Titanic_overfitting_rf.png\n",
      "Titanic_overfitting_knn.png\n",
      "Titanic_overfitting_decision_tree.png\n",
      "Titanic_overfitting_dt_acc_rec.png\n",
      "Titanic_pca.png\n",
      "Titanic_correlation_heatmap.png\n",
      "Titanic_boxplots.png\n",
      "Titanic_histograms_symbolic.png\n",
      "Titanic_mv.png\n",
      "Titanic_class_histogram.png\n",
      "Titanic_nr_records_nr_variables.png\n",
      "Titanic_histograms_numeric.png\n"
     ]
    }
   ],
   "source": [
    "from datasets import load_dataset\n",
    "import pandas as pd\n",
    "\n",
    "import torch\n",
    "torch.cuda.empty_cache()\n",
    "\n",
    "dataset = load_dataset('eduvedras/Img_Desc',trust_remote_code=True)\n",
    "'''\n",
    "meta = pd.read_csv('desc_dataset.csv', sep=';')\n",
    "\n",
    "for index, row in meta.iterrows():\n",
    "    if row['Chart'] not in dataset['train']['Chart_name']:\n",
    "        print(row['Chart'])'''\n",
    "\n",
    "dataset"
   ]
  },
  {
   "cell_type": "code",
   "execution_count": 5,
   "metadata": {},
   "outputs": [],
   "source": [
    "import tarfile\n",
    "\n",
    "with tarfile.open('images.tar.gz', 'w:gz') as tar:\n",
    "    tar.add('./images')"
   ]
  }
 ],
 "metadata": {
  "kernelspec": {
   "display_name": "Python 3",
   "language": "python",
   "name": "python3"
  },
  "language_info": {
   "codemirror_mode": {
    "name": "ipython",
    "version": 3
   },
   "file_extension": ".py",
   "mimetype": "text/x-python",
   "name": "python",
   "nbconvert_exporter": "python",
   "pygments_lexer": "ipython3",
   "version": "3.10.13"
  }
 },
 "nbformat": 4,
 "nbformat_minor": 2
}
