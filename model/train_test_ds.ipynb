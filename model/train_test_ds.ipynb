{
 "cells": [
  {
   "cell_type": "code",
   "execution_count": 7,
   "metadata": {},
   "outputs": [
    {
     "name": "stderr",
     "output_type": "stream",
     "text": [
      "Downloading builder script: 100%|██████████| 4.41k/4.41k [00:00<00:00, 18.9MB/s]\n",
      "Generating train split: 6365 examples [04:55, 21.52 examples/s]\n",
      "Generating validation split: 1711 examples [00:54, 31.54 examples/s]\n",
      "Generating test split: 826 examples [00:22, 37.05 examples/s]"
     ]
    },
    {
     "name": "stdout",
     "output_type": "stream",
     "text": [
      "Dataset({\n",
      "    features: ['Id', 'Question', 'Chart', 'Chart_name'],\n",
      "    num_rows: 6365\n",
      "})\n",
      "Dataset({\n",
      "    features: ['Id', 'Question', 'Chart', 'Chart_name'],\n",
      "    num_rows: 826\n",
      "})\n",
      "Dataset({\n",
      "    features: ['Id', 'Question', 'Chart', 'Chart_name'],\n",
      "    num_rows: 1711\n",
      "})\n",
      "Dataset({\n",
      "    features: ['Id', 'Question', 'Chart', 'Chart_name'],\n",
      "    num_rows: 6365\n",
      "})\n"
     ]
    },
    {
     "name": "stderr",
     "output_type": "stream",
     "text": [
      "\n"
     ]
    },
    {
     "data": {
      "text/plain": [
       "'dataset = dataset[\"train\"].train_test_split(test_size=0.1)\\nprint(dataset)\\ntrain_dataset = dataset[\"train\"]\\ntest_dataset = dataset[\"test\"]\\n\\nprint(len(train_dataset))\\nprint(len(test_dataset))'"
      ]
     },
     "execution_count": 7,
     "metadata": {},
     "output_type": "execute_result"
    }
   ],
   "source": [
    "from datasets import load_dataset\n",
    "\n",
    "import torch\n",
    "torch.cuda.empty_cache()\n",
    "\n",
    "dataset = load_dataset('eduvedras/VQG-Small',trust_remote_code=True)\n",
    "\n",
    "dataset"
   ]
  }
 ],
 "metadata": {
  "kernelspec": {
   "display_name": "Python 3",
   "language": "python",
   "name": "python3"
  },
  "language_info": {
   "codemirror_mode": {
    "name": "ipython",
    "version": 3
   },
   "file_extension": ".py",
   "mimetype": "text/x-python",
   "name": "python",
   "nbconvert_exporter": "python",
   "pygments_lexer": "ipython3",
   "version": "3.10.13"
  }
 },
 "nbformat": 4,
 "nbformat_minor": 2
}
