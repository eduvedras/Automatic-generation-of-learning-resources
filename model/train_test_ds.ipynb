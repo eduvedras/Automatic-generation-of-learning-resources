{
 "cells": [
  {
   "cell_type": "code",
   "execution_count": 5,
   "metadata": {},
   "outputs": [
    {
     "name": "stderr",
     "output_type": "stream",
     "text": [
      "Downloading builder script: 100%|██████████| 3.91k/3.91k [00:00<00:00, 17.7MB/s]\n",
      "Generating train split: 507 examples [00:28, 17.51 examples/s]\n",
      "Generating test split: 57 examples [00:03, 17.69 examples/s]\n"
     ]
    },
    {
     "data": {
      "text/plain": [
       "\"\\nmeta = pd.read_csv('desc_dataset.csv', sep=';')\\n\\nfor index, row in meta.iterrows():\\n    if row['Chart'] not in dataset['train']['Chart_name']:\\n        print(row['Chart'])\""
      ]
     },
     "execution_count": 5,
     "metadata": {},
     "output_type": "execute_result"
    }
   ],
   "source": [
    "from datasets import load_dataset\n",
    "import pandas as pd\n",
    "\n",
    "import torch\n",
    "torch.cuda.empty_cache()\n",
    "\n",
    "dataset = load_dataset('eduvedras/QA',trust_remote_code=True)\n",
    "'''\n",
    "meta = pd.read_csv('desc_dataset.csv', sep=';')\n",
    "\n",
    "for index, row in meta.iterrows():\n",
    "    if row['Chart'] not in dataset['train']['Chart_name']:\n",
    "        print(row['Chart'])'''\n",
    "\n",
    "#dataset['test'][0]"
   ]
  },
  {
   "cell_type": "code",
   "execution_count": 7,
   "metadata": {},
   "outputs": [
    {
     "data": {
      "text/plain": [
       "{'Chart': <PIL.PngImagePlugin.PngImageFile image mode=RGBA size=600x450>,\n",
       " 'Question': 'We are able to identify the existence of overfitting for MLP models trained longer than 500 episodes.',\n",
       " 'Chart_name': 'smoking_drinking_overfitting_mlp.png',\n",
       " 'Id': '0',\n",
       " 'Answer': 'F'}"
      ]
     },
     "execution_count": 7,
     "metadata": {},
     "output_type": "execute_result"
    }
   ],
   "source": [
    "dataset['test'][0]"
   ]
  },
  {
   "cell_type": "code",
   "execution_count": 1,
   "metadata": {},
   "outputs": [],
   "source": [
    "import tarfile\n",
    "\n",
    "with tarfile.open('images.tar.gz', 'w:gz') as tar:\n",
    "    tar.add('./images')"
   ]
  }
 ],
 "metadata": {
  "kernelspec": {
   "display_name": "Python 3",
   "language": "python",
   "name": "python3"
  },
  "language_info": {
   "codemirror_mode": {
    "name": "ipython",
    "version": 3
   },
   "file_extension": ".py",
   "mimetype": "text/x-python",
   "name": "python",
   "nbconvert_exporter": "python",
   "pygments_lexer": "ipython3",
   "version": "3.10.14"
  }
 },
 "nbformat": 4,
 "nbformat_minor": 2
}
