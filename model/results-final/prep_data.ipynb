{
 "cells": [
  {
   "cell_type": "code",
   "execution_count": 2,
   "metadata": {},
   "outputs": [],
   "source": [
    "directory = '/home/eduvedras/tese/model/results-final'\n",
    "import os\n",
    "import pandas as pd\n",
    "i = 0\n",
    "for file in os.scandir(directory):\n",
    "    if file.is_file() and \"csv\" in file.name:\n",
    "        new_data = pd.DataFrame(columns=['Id','Image','Prediction'])\n",
    "        data = pd.read_csv(file.path)\n",
    "        file_tag = file.name[:-4]\n",
    "        for index, row in data.iterrows():\n",
    "            new_data.loc[len(new_data)] = {'Id': i, 'Image': row['Image'], 'Prediction': row['Prediction']}\n",
    "            i += 1\n",
    "        new_data.to_csv(directory + '/results/' + file_tag + '.csv', index=False)"
   ]
  }
 ],
 "metadata": {
  "kernelspec": {
   "display_name": "Python 3",
   "language": "python",
   "name": "python3"
  },
  "language_info": {
   "codemirror_mode": {
    "name": "ipython",
    "version": 3
   },
   "file_extension": ".py",
   "mimetype": "text/x-python",
   "name": "python",
   "nbconvert_exporter": "python",
   "pygments_lexer": "ipython3",
   "version": "3.10.13"
  }
 },
 "nbformat": 4,
 "nbformat_minor": 2
}
