{
 "cells": [
  {
   "cell_type": "code",
   "execution_count": 7,
   "metadata": {},
   "outputs": [
    {
     "name": "stderr",
     "output_type": "stream",
     "text": [
      "Downloading data: 100%|██████████| 66.7k/66.7k [00:00<00:00, 155kB/s]\n",
      "Downloading data: 100%|██████████| 2.20k/2.20k [00:00<00:00, 6.53kB/s]\n",
      "Generating train split: 444 examples [00:00, 39723.36 examples/s]\n",
      "Generating test split: 15 examples [00:00, 4597.34 examples/s]\n"
     ]
    }
   ],
   "source": [
    "from datasets import load_dataset\n",
    "from transformers import Pix2StructForConditionalGeneration, Pix2StructProcessor\n",
    "import torch\n",
    "from evaluate import load\n",
    "\n",
    "torch.cuda.empty_cache()\n",
    "\n",
    "dataset = load_dataset('eduvedras/Img_Desc_Templates',split='test',trust_remote_code=True)\n"
   ]
  },
  {
   "cell_type": "code",
   "execution_count": 8,
   "metadata": {},
   "outputs": [
    {
     "name": "stderr",
     "output_type": "stream",
     "text": [
      "model.safetensors: 100%|██████████| 1.13G/1.13G [06:54<00:00, 2.73MB/s]\n"
     ]
    },
    {
     "data": {
      "text/plain": [
       "Pix2StructForConditionalGeneration(\n",
       "  (encoder): Pix2StructVisionModel(\n",
       "    (embeddings): Pix2StructVisionEmbeddings(\n",
       "      (patch_projection): Linear(in_features=768, out_features=768, bias=True)\n",
       "      (row_embedder): Embedding(4096, 768)\n",
       "      (column_embedder): Embedding(4096, 768)\n",
       "      (dropout): Dropout(p=0.06, inplace=False)\n",
       "    )\n",
       "    (encoder): Pix2StructVisionEncoder(\n",
       "      (layer): ModuleList(\n",
       "        (0-11): 12 x Pix2StructVisionLayer(\n",
       "          (attention): Pix2StructVisionAttention(\n",
       "            (query): Linear(in_features=768, out_features=768, bias=False)\n",
       "            (key): Linear(in_features=768, out_features=768, bias=False)\n",
       "            (value): Linear(in_features=768, out_features=768, bias=False)\n",
       "            (output): Linear(in_features=768, out_features=768, bias=False)\n",
       "          )\n",
       "          (mlp): Pix2StructVisionMlp(\n",
       "            (wi_0): Linear(in_features=768, out_features=2048, bias=False)\n",
       "            (wi_1): Linear(in_features=768, out_features=2048, bias=False)\n",
       "            (wo): Linear(in_features=2048, out_features=768, bias=False)\n",
       "            (dropout): Dropout(p=0.06, inplace=False)\n",
       "            (act): NewGELUActivation()\n",
       "          )\n",
       "          (pre_mlp_layer_norm): Pix2StructLayerNorm()\n",
       "          (pre_attention_layer_norm): Pix2StructLayerNorm()\n",
       "        )\n",
       "      )\n",
       "    )\n",
       "    (layernorm): Pix2StructLayerNorm()\n",
       "  )\n",
       "  (decoder): Pix2StructTextModel(\n",
       "    (embed_tokens): Embedding(50244, 768)\n",
       "    (layer): ModuleList(\n",
       "      (0): Pix2StructTextBlock(\n",
       "        (self_attention): Pix2StructTextLayerSelfAttention(\n",
       "          (attention): Pix2StructTextAttention(\n",
       "            (query): Linear(in_features=768, out_features=768, bias=False)\n",
       "            (key): Linear(in_features=768, out_features=768, bias=False)\n",
       "            (value): Linear(in_features=768, out_features=768, bias=False)\n",
       "            (output): Linear(in_features=768, out_features=768, bias=False)\n",
       "            (relative_attention_bias): Embedding(32, 12)\n",
       "          )\n",
       "          (layer_norm): Pix2StructLayerNorm()\n",
       "          (dropout): Dropout(p=0.05, inplace=False)\n",
       "        )\n",
       "        (encoder_decoder_attention): Pix2StructTextLayerCrossAttention(\n",
       "          (attention): Pix2StructTextAttention(\n",
       "            (query): Linear(in_features=768, out_features=768, bias=False)\n",
       "            (key): Linear(in_features=768, out_features=768, bias=False)\n",
       "            (value): Linear(in_features=768, out_features=768, bias=False)\n",
       "            (output): Linear(in_features=768, out_features=768, bias=False)\n",
       "          )\n",
       "          (layer_norm): Pix2StructLayerNorm()\n",
       "          (dropout): Dropout(p=0.05, inplace=False)\n",
       "        )\n",
       "        (mlp): Pix2StructTextLayerFF(\n",
       "          (DenseReluDense): Pix2StructTextDenseGatedActDense(\n",
       "            (wi_0): Linear(in_features=768, out_features=2048, bias=False)\n",
       "            (wi_1): Linear(in_features=768, out_features=2048, bias=False)\n",
       "            (wo): Linear(in_features=2048, out_features=768, bias=False)\n",
       "            (dropout): Dropout(p=0.05, inplace=False)\n",
       "            (act): NewGELUActivation()\n",
       "          )\n",
       "          (layer_norm): Pix2StructLayerNorm()\n",
       "          (dropout): Dropout(p=0.05, inplace=False)\n",
       "        )\n",
       "      )\n",
       "      (1-11): 11 x Pix2StructTextBlock(\n",
       "        (self_attention): Pix2StructTextLayerSelfAttention(\n",
       "          (attention): Pix2StructTextAttention(\n",
       "            (query): Linear(in_features=768, out_features=768, bias=False)\n",
       "            (key): Linear(in_features=768, out_features=768, bias=False)\n",
       "            (value): Linear(in_features=768, out_features=768, bias=False)\n",
       "            (output): Linear(in_features=768, out_features=768, bias=False)\n",
       "          )\n",
       "          (layer_norm): Pix2StructLayerNorm()\n",
       "          (dropout): Dropout(p=0.05, inplace=False)\n",
       "        )\n",
       "        (encoder_decoder_attention): Pix2StructTextLayerCrossAttention(\n",
       "          (attention): Pix2StructTextAttention(\n",
       "            (query): Linear(in_features=768, out_features=768, bias=False)\n",
       "            (key): Linear(in_features=768, out_features=768, bias=False)\n",
       "            (value): Linear(in_features=768, out_features=768, bias=False)\n",
       "            (output): Linear(in_features=768, out_features=768, bias=False)\n",
       "          )\n",
       "          (layer_norm): Pix2StructLayerNorm()\n",
       "          (dropout): Dropout(p=0.05, inplace=False)\n",
       "        )\n",
       "        (mlp): Pix2StructTextLayerFF(\n",
       "          (DenseReluDense): Pix2StructTextDenseGatedActDense(\n",
       "            (wi_0): Linear(in_features=768, out_features=2048, bias=False)\n",
       "            (wi_1): Linear(in_features=768, out_features=2048, bias=False)\n",
       "            (wo): Linear(in_features=2048, out_features=768, bias=False)\n",
       "            (dropout): Dropout(p=0.05, inplace=False)\n",
       "            (act): NewGELUActivation()\n",
       "          )\n",
       "          (layer_norm): Pix2StructLayerNorm()\n",
       "          (dropout): Dropout(p=0.05, inplace=False)\n",
       "        )\n",
       "      )\n",
       "    )\n",
       "    (final_layer_norm): Pix2StructLayerNorm()\n",
       "    (dropout): Dropout(p=0.05, inplace=False)\n",
       "    (lm_head): Linear(in_features=768, out_features=50244, bias=False)\n",
       "  )\n",
       ")"
      ]
     },
     "execution_count": 8,
     "metadata": {},
     "output_type": "execute_result"
    }
   ],
   "source": [
    "device = \"cuda\" if torch.cuda.is_available() else \"cpu\"\n",
    "\n",
    "filetag = \"pix2struct-textcaps-base-desc-templates-final\"\n",
    "\n",
    "model = Pix2StructForConditionalGeneration.from_pretrained(f\"eduvedras/{filetag}\").to(device)\n",
    "model"
   ]
  },
  {
   "cell_type": "code",
   "execution_count": 9,
   "metadata": {},
   "outputs": [
    {
     "ename": "KeyError",
     "evalue": "'Chart_name'",
     "output_type": "error",
     "traceback": [
      "\u001b[0;31m---------------------------------------------------------------------------\u001b[0m",
      "\u001b[0;31mKeyError\u001b[0m                                  Traceback (most recent call last)",
      "Cell \u001b[0;32mIn[9], line 13\u001b[0m\n\u001b[1;32m     10\u001b[0m \u001b[38;5;28;01mfrom\u001b[39;00m \u001b[38;5;21;01mtqdm\u001b[39;00m\u001b[38;5;21;01m.\u001b[39;00m\u001b[38;5;21;01mauto\u001b[39;00m \u001b[38;5;28;01mimport\u001b[39;00m tqdm\n\u001b[1;32m     12\u001b[0m \u001b[38;5;28;01mfor\u001b[39;00m i \u001b[38;5;129;01min\u001b[39;00m \u001b[38;5;28mrange\u001b[39m(\u001b[38;5;28mlen\u001b[39m(dataset)):\n\u001b[0;32m---> 13\u001b[0m     dic[\u001b[43mdataset\u001b[49m\u001b[43m[\u001b[49m\u001b[43mi\u001b[49m\u001b[43m]\u001b[49m\u001b[43m[\u001b[49m\u001b[38;5;124;43m'\u001b[39;49m\u001b[38;5;124;43mChart_name\u001b[39;49m\u001b[38;5;124;43m'\u001b[39;49m\u001b[43m]\u001b[49m] \u001b[38;5;241m=\u001b[39m []\n\u001b[1;32m     15\u001b[0m \u001b[38;5;28;01mfor\u001b[39;00m i \u001b[38;5;129;01min\u001b[39;00m \u001b[38;5;28mrange\u001b[39m(\u001b[38;5;28mlen\u001b[39m(dataset)):\n\u001b[1;32m     16\u001b[0m     dic[dataset[i][\u001b[38;5;124m'\u001b[39m\u001b[38;5;124mChart_name\u001b[39m\u001b[38;5;124m'\u001b[39m]]\u001b[38;5;241m.\u001b[39mappend(dataset[i][\u001b[38;5;124m'\u001b[39m\u001b[38;5;124mDescription\u001b[39m\u001b[38;5;124m'\u001b[39m])\n",
      "\u001b[0;31mKeyError\u001b[0m: 'Chart_name'"
     ]
    }
   ],
   "source": [
    "checkpoint = \"google/pix2struct-textcaps-base\"\n",
    "\n",
    "processor = Pix2StructProcessor.from_pretrained(checkpoint)\n",
    "\n",
    "predictions = []\n",
    "references = []\n",
    "\n",
    "dic = {}\n",
    "\n",
    "from tqdm.auto import tqdm\n",
    "\n",
    "for i in range(len(dataset)):\n",
    "    dic[dataset[i]['Chart_name']] = []\n",
    "\n",
    "for i in range(len(dataset)):\n",
    "    dic[dataset[i]['Chart_name']].append(dataset[i]['Description'])\n",
    "    \n",
    "print(len(dic))"
   ]
  },
  {
   "cell_type": "code",
   "execution_count": null,
   "metadata": {},
   "outputs": [
    {
     "name": "stderr",
     "output_type": "stream",
     "text": [
      "100%|██████████| 8/8 [00:06<00:00,  1.18it/s]\n"
     ]
    }
   ],
   "source": [
    "for i in tqdm(range(len(dataset))):\n",
    "    inputs = processor(images=dataset[i]['Chart'], return_tensors=\"pt\").to(device)\n",
    "    flattened_patches = inputs.flattened_patches\n",
    "    attention_mask = inputs.attention_mask\n",
    "    generated_ids = model.generate(flattened_patches=flattened_patches, attention_mask=attention_mask, max_length=167)\n",
    "    generated_caption = processor.batch_decode(generated_ids, skip_special_tokens=True)[0]  \n",
    "    predictions.append(generated_caption)\n",
    "    references.append(dic[dataset[i]['Chart_name']])"
   ]
  },
  {
   "cell_type": "code",
   "execution_count": null,
   "metadata": {},
   "outputs": [
    {
     "name": "stdout",
     "output_type": "stream",
     "text": [
      "{'bleu': 0.8791842281420499, 'precisions': [0.8863636363636364, 0.8888888888888888, 0.8666666666666667, 0.875], 'brevity_penalty': 1.0, 'length_ratio': 1.0, 'translation_length': 44, 'reference_length': 44}\n"
     ]
    },
    {
     "name": "stderr",
     "output_type": "stream",
     "text": [
      "[nltk_data] Downloading package wordnet to\n",
      "[nltk_data]     /home/eduvedras/nltk_data...\n",
      "[nltk_data]   Package wordnet is already up-to-date!\n",
      "[nltk_data] Downloading package punkt to /home/eduvedras/nltk_data...\n",
      "[nltk_data]   Package punkt is already up-to-date!\n",
      "[nltk_data] Downloading package omw-1.4 to\n",
      "[nltk_data]     /home/eduvedras/nltk_data...\n",
      "[nltk_data]   Package omw-1.4 is already up-to-date!\n"
     ]
    },
    {
     "name": "stdout",
     "output_type": "stream",
     "text": [
      "{'meteor': 0.6097657954935154}\n",
      "{'rouge1': 0.7638888888888888, 'rouge2': 0.5416666666666666, 'rougeL': 0.7597222222222223, 'rougeLsum': 0.7555555555555555}\n"
     ]
    }
   ],
   "source": [
    "import evaluate\n",
    "\n",
    "\n",
    "file = open(f\"predictions-{filetag}.txt\", \"a\")\n",
    "\n",
    "bleu = evaluate.load(\"bleu\")\n",
    "results = bleu.compute(predictions=predictions, references=references)\n",
    "print(results)\n",
    "file.write(f\"BLEU: {results}\\n\")\n",
    "\n",
    "meteor = evaluate.load(\"meteor\")\n",
    "results = meteor.compute(predictions=predictions, references=references)\n",
    "print(results)\n",
    "file.write(f\"METEOR: {results}\\n\")\n",
    "\n",
    "rouge = evaluate.load(\"rouge\")\n",
    "results = rouge.compute(predictions=predictions, references=references)\n",
    "print(results)\n",
    "file.write(f\"ROUGE: {results}\\n\")\n",
    "file.close()"
   ]
  },
  {
   "cell_type": "code",
   "execution_count": null,
   "metadata": {},
   "outputs": [],
   "source": [
    "import pandas as pd\n",
    "\n",
    "new_df = pd.DataFrame(columns=['Image','Prediction'])\n",
    "\n",
    "i=0\n",
    "while i < len(dataset):\n",
    "    if ((new_df['Image'] == dataset[i]['Chart_name']) & (new_df['Prediction'] == predictions[i])).any():\n",
    "        i += 1\n",
    "        continue\n",
    "    else:\n",
    "        new_df.loc[len(new_df)] = {'Image': dataset[i]['Chart_name'], 'Prediction': predictions[i]}\n",
    "        i += 1\n",
    "    \n",
    "new_df.to_csv(f'predictions-{filetag}.csv', index=False)"
   ]
  }
 ],
 "metadata": {
  "kernelspec": {
   "display_name": "Python 3",
   "language": "python",
   "name": "python3"
  },
  "language_info": {
   "codemirror_mode": {
    "name": "ipython",
    "version": 3
   },
   "file_extension": ".py",
   "mimetype": "text/x-python",
   "name": "python",
   "nbconvert_exporter": "python",
   "pygments_lexer": "ipython3",
   "version": "3.10.13"
  }
 },
 "nbformat": 4,
 "nbformat_minor": 2
}
