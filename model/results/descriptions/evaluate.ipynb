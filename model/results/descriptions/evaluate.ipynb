{
 "cells": [
  {
   "cell_type": "code",
   "execution_count": 5,
   "metadata": {},
   "outputs": [
    {
     "name": "stdout",
     "output_type": "stream",
     "text": [
      "Dataset({\n",
      "    features: ['Chart', 'Description', 'Chart_name'],\n",
      "    num_rows: 15\n",
      "})\n"
     ]
    }
   ],
   "source": [
    "from PIL import Image\n",
    "import requests\n",
    "import torch\n",
    "from datasets import load_dataset\n",
    "import pandas as pd\n",
    "\n",
    "def levenshteinDistance(A, B):\n",
    "    N, M = len(A), len(B)\n",
    "    # Create an array of size NxM\n",
    "    dp = [[0 for i in range(M + 1)] for j in range(N + 1)]\n",
    "\n",
    "    # Base Case: When N = 0\n",
    "    for j in range(M + 1):\n",
    "        dp[0][j] = j\n",
    "    # Base Case: When M = 0\n",
    "    for i in range(N + 1):\n",
    "        dp[i][0] = i\n",
    "    # Transitions\n",
    "    for i in range(1, N + 1):\n",
    "        for j in range(1, M + 1):\n",
    "            if A[i - 1] == B[j - 1]:\n",
    "                dp[i][j] = dp[i-1][j-1]\n",
    "            else:\n",
    "                dp[i][j] = 1 + min(\n",
    "                    dp[i-1][j], # Insertion\n",
    "                    dp[i][j-1], # Deletion\n",
    "                    dp[i-1][j-1] # Replacement\n",
    "                )\n",
    "\n",
    "    return dp[N][M]\n",
    "\n",
    "\n",
    "dataset = load_dataset('eduvedras/Img_Desc',split='test',trust_remote_code=True)\n",
    "filetag = 'pix-desc'\n",
    "print(dataset)"
   ]
  },
  {
   "cell_type": "code",
   "execution_count": 6,
   "metadata": {},
   "outputs": [
    {
     "name": "stdout",
     "output_type": "stream",
     "text": [
      "['An image showing a decision tree with depth = 2 where the first decision is made with the condition Pclass <= 2.5 and the second with the condition Parch <= 0.5.', 'A multi-line chart showing the overfitting of a mlp where the y-axis represents the accuracy and the x-axis represents the number of iterations ranging from 100 to 1000.', 'A multi-line chart showing the overfitting of gradient boosting where the y-axis represents the accuracy and the x-axis represents the number of estimators ranging from 2 to 2002.', 'A multi-line chart showing the overfitting of random forest where the y-axis represents the accuracy and the x-axis represents the number of estimators ranging from 2 to 2002.', 'A multi-line chart showing the overfitting of k-nearest neighbors where the y-axis represents the accuracy and the x-axis represents the number of neighbors ranging from 1 to 23.', 'A multi-line chart showing the overfitting of a decision tree where the y-axis represents the accuracy and the x-axis represents the max depth ranging from 2 to 25.', 'A multi-line chart showing the overfitting of decision tree where the y-axis represents the performance of both accuracy and recall and the x-axis represents the max depth ranging from 2 to 25.', 'A bar chart showing the explained variance ratio of 5 principal components.', \"A heatmap showing the correlation between the variables of the dataset. The variables are ['Pclass', 'Age', 'SibSp', 'Parch', 'Fare'].\", \"A set of boxplots of the variables ['Pclass', 'Age', 'SibSp', 'Parch', 'Fare'].\", \"A set of bar charts of the variables ['Embarked', 'Sex'].\", \"A bar chart showing the number of missing values per variable of the dataset. The variables that have missing values are: ['Age', 'Embarked'].\", 'A bar chart showing the distribution of the target variable Survived.', 'A bar chart showing the number of records and variables of the dataset.', \"A set of histograms of the variables ['Pclass', 'Age', 'SibSp', 'Parch', 'Fare'].\"]\n"
     ]
    }
   ],
   "source": [
    "predictions = []\n",
    "references = []\n",
    "df = pd.read_csv(f'./{filetag}.csv', sep=',')\n",
    "i=0\n",
    "for index,row in df.iterrows():\n",
    "    predictions.append(row['Prediction'])\n",
    "    references.append(dataset[i]['Description'])\n",
    "    i+=1\n",
    "    \n",
    "print(references)\n"
   ]
  },
  {
   "cell_type": "code",
   "execution_count": 7,
   "metadata": {},
   "outputs": [
    {
     "name": "stdout",
     "output_type": "stream",
     "text": [
      "[1, 13, 12, 0, 0, 0, 0, 1, 10, 16, 11, 9, 0, 0, 10]\n"
     ]
    },
    {
     "data": {
      "text/plain": [
       "'file = open(f\"{filetag}.txt\", \"a\")\\n\\nbleu = evaluate.load(\"bleu\")\\nresults = bleu.compute(predictions=predictions, references=references)\\nprint(results)\\nfile.write(f\"BLEU: {results}\\n\")\\n\\nmeteor = evaluate.load(\"meteor\")\\nresults = meteor.compute(predictions=predictions, references=references)\\nprint(results)\\nfile.write(f\"METEOR: {results}\\n\")\\n\\nrouge = evaluate.load(\"rouge\")\\nresults = rouge.compute(predictions=predictions, references=references)\\nprint(results)\\nfile.write(f\"ROUGE: {results}\\n\")\\nfile.close()'"
      ]
     },
     "execution_count": 7,
     "metadata": {},
     "output_type": "execute_result"
    }
   ],
   "source": [
    "import evaluate\n",
    "\n",
    "distances = []\n",
    "for i in range(len(predictions)):\n",
    "    distances.append(levenshteinDistance(predictions[i], references[i]))\n",
    "\n",
    "print(distances)\n",
    "\n",
    "file = open(f\"{filetag}.txt\", \"a\")\n",
    "\n",
    "bleu = evaluate.load(\"bleu\")\n",
    "results = bleu.compute(predictions=predictions, references=references)\n",
    "print(results)\n",
    "file.write(f\"BLEU: {results}\\n\")\n",
    "\n",
    "meteor = evaluate.load(\"meteor\")\n",
    "results = meteor.compute(predictions=predictions, references=references)\n",
    "print(results)\n",
    "file.write(f\"METEOR: {results}\\n\")\n",
    "\n",
    "rouge = evaluate.load(\"rouge\")\n",
    "results = rouge.compute(predictions=predictions, references=references)\n",
    "print(results)\n",
    "file.write(f\"ROUGE: {results}\\n\")\n",
    "file.close()"
   ]
  }
 ],
 "metadata": {
  "kernelspec": {
   "display_name": "Python 3",
   "language": "python",
   "name": "python3"
  },
  "language_info": {
   "codemirror_mode": {
    "name": "ipython",
    "version": 3
   },
   "file_extension": ".py",
   "mimetype": "text/x-python",
   "name": "python",
   "nbconvert_exporter": "python",
   "pygments_lexer": "ipython3",
   "version": "3.10.14"
  }
 },
 "nbformat": 4,
 "nbformat_minor": 2
}
