{
 "cells": [
  {
   "cell_type": "code",
   "execution_count": null,
   "metadata": {},
   "outputs": [],
   "source": [
    "from PIL import Image\n",
    "import requests\n",
    "import torch\n",
    "from transformers import AutoProcessor\n",
    "from transformers import Pix2StructForConditionalGeneration, Pix2StructProcessor\n",
    "\n",
    "from datasets import load_dataset\n",
    "\n",
    "device = \"cuda\" if torch.cuda.is_available() else \"cpu\"\n",
    "\n",
    "dataset = load_dataset('eduvedras/Img_Desc',split='test',trust_remote_code=True)"
   ]
  },
  {
   "cell_type": "code",
   "execution_count": null,
   "metadata": {},
   "outputs": [],
   "source": [
    "from huggingface_hub import InferenceClient\n",
    "from transformers import AutoModelForCausalLM\n",
    "\n",
    "filetag = \"pix2struct-textcaps-base-desc-final\"\n",
    "\n",
    "model_templates = Pix2StructForConditionalGeneration.from_pretrained(\"eduvedras/pix2struct-textcaps-base-desc-templates-final\").to(device)\n",
    "model_vars = Pix2StructForConditionalGeneration.from_pretrained(\"eduvedras/pix2struct-textcaps-base-desc-vars-final\").to(device)"
   ]
  },
  {
   "cell_type": "code",
   "execution_count": null,
   "metadata": {},
   "outputs": [],
   "source": [
    "checkpoint = \"google/pix2struct-textcaps-base\"\n",
    "\n",
    "processor = Pix2StructProcessor.from_pretrained(checkpoint)\n",
    "\n",
    "predictions = []\n",
    "references = []\n",
    "\n",
    "dic = {}\n",
    "\n",
    "from tqdm.auto import tqdm\n",
    "\n",
    "for i in range(len(dataset)):\n",
    "    dic[dataset[i]['Chart_name']] = []\n",
    "\n",
    "for i in range(len(dataset)):\n",
    "    dic[dataset[i]['Chart_name']].append(dataset[i]['Description'])\n",
    "    \n",
    "print(len(dic))"
   ]
  },
  {
   "cell_type": "code",
   "execution_count": null,
   "metadata": {},
   "outputs": [],
   "source": [
    "for i in tqdm(range(len(dataset))):\n",
    "    inputs = processor(images=dataset[i]['Chart'], return_tensors=\"pt\").to(device)\n",
    "    flattened_patches = inputs.flattened_patches\n",
    "    attention_mask = inputs.attention_mask\n",
    "    generated_template_ids = model_templates.generate(flattened_patches=flattened_patches, attention_mask=attention_mask, max_length=193)\n",
    "    generated_template = processor.batch_decode(generated_template_ids, skip_special_tokens=True)[0]  \n",
    "    generated_vars_ids = model_vars.generate(flattened_patches=flattened_patches, attention_mask=attention_mask, max_length=167)\n",
    "    generated_vars = processor.batch_decode(generated_vars_ids, skip_special_tokens=True)[0]\n",
    "    generated_caption = generated_template.replace(\"[]\",\"[\" + generated_vars + \"]\")\n",
    "    predictions.append(generated_caption)\n",
    "    references.append(dic[dataset[i]['Chart_name']])"
   ]
  },
  {
   "cell_type": "code",
   "execution_count": null,
   "metadata": {},
   "outputs": [],
   "source": [
    "import evaluate\n",
    "\n",
    "\n",
    "file = open(f\"predictions-{filetag}.txt\", \"a\")\n",
    "\n",
    "bleu = evaluate.load(\"bleu\")\n",
    "results = bleu.compute(predictions=predictions, references=references)\n",
    "print(results)\n",
    "file.write(f\"BLEU: {results}\\n\")\n",
    "\n",
    "meteor = evaluate.load(\"meteor\")\n",
    "results = meteor.compute(predictions=predictions, references=references)\n",
    "print(results)\n",
    "file.write(f\"METEOR: {results}\\n\")\n",
    "\n",
    "rouge = evaluate.load(\"rouge\")\n",
    "results = rouge.compute(predictions=predictions, references=references)\n",
    "print(results)\n",
    "file.write(f\"ROUGE: {results}\\n\")\n",
    "file.close()"
   ]
  },
  {
   "cell_type": "code",
   "execution_count": null,
   "metadata": {},
   "outputs": [],
   "source": [
    "import pandas as pd\n",
    "\n",
    "new_df = pd.DataFrame(columns=['Image','Prediction'])\n",
    "\n",
    "i=0\n",
    "while i < len(dataset):\n",
    "    if ((new_df['Image'] == dataset[i]['Chart_name']) & (new_df['Prediction'] == predictions[i])).any():\n",
    "        i += 1\n",
    "        continue\n",
    "    else:\n",
    "        new_df.loc[len(new_df)] = {'Image': dataset[i]['Chart_name'], 'Prediction': predictions[i]}\n",
    "        i += 1\n",
    "    \n",
    "new_df.to_csv(f'predictions-{filetag}.csv', index=False)"
   ]
  }
 ],
 "metadata": {
  "language_info": {
   "name": "python"
  }
 },
 "nbformat": 4,
 "nbformat_minor": 2
}
