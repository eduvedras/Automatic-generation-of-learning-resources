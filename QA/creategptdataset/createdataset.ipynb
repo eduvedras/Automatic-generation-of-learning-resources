{
 "cells": [
  {
   "cell_type": "code",
   "execution_count": 11,
   "metadata": {},
   "outputs": [],
   "source": [
    "from datasets import load_dataset\n",
    "\n",
    "def formatData(data):\n",
    "    if data == 'no':\n",
    "        return 'A multi-line chart that does not suffer from overfitting.'\n",
    "    elif 'overfitting after' in data and 'acc=' not in data:\n",
    "        return f'A multi-line chart that shows {data}.'\n",
    "    elif 'overfitting until' in data:\n",
    "        return f'A multi-line chart that shows {data} neighbors.'\n",
    "    elif ',acc' in data:\n",
    "        if 'no' in data.split(\"nderfitting \")[0]:\n",
    "            underfitting = 'no'\n",
    "        else:\n",
    "            underfitting = data.split(\"nderfitting \")[1].split(\",\")[0]\n",
    "        \n",
    "        if 'no' in data.split(\"overfitting \")[0]:\n",
    "            overfitting = 'no'\n",
    "        else:\n",
    "            overfitting = data.split(\"overfitting \")[1].split(\",\")[0]\n",
    "         \n",
    "        if data.split(\"ac\")[1] == 'c>80':\n",
    "            acc = 'test accuracy line surpasses than 80%'\n",
    "        elif data.split(\"ac\")[1] == 'c<80':\n",
    "            acc = 'test accuracy line does not surpass 80%'\n",
    "        else:\n",
    "            acc = 'test accuracy line stays at 80%'\n",
    "        if underfitting == 'no' and overfitting == 'no':\n",
    "            return f'A multi-line chart showing the random forest does not have underfitting, does not enter in overfitting and it\\'s {acc}.'\n",
    "        elif underfitting != 'no' and overfitting == 'no':\n",
    "            return f'A multi-line chart showing the random forest is in underfitting until {underfitting} estimators, does not enter in overfitting and it\\'s {acc}.'\n",
    "        elif underfitting == 'no' and overfitting != 'no':\n",
    "            return f'A multi-line chart showing the random forest does not have underfitting, enters in overfitting after {overfitting} estimators and it\\'s {acc}.'\n",
    "        else:\n",
    "            return f'A multi-line chart showing the random forest is in underfitting until {underfitting} estimators, enters in overfitting after {overfitting} estimators and it\\'s {acc}.'\n",
    "    elif data == 'acc_rec':\n",
    "        return 'A multi-line chart showing the train and test accuracy and recall of a decision tree.'\n",
    "    elif 'samples' in data:\n",
    "        return f'A decision tree with the following configuration:{data}.'\n",
    "    elif data[0] == '[' and len(data.split(\",\")) > 2:\n",
    "        return f'A bar chart showing the explained variance ration of each principal components the values are the following:{data}.'\n",
    "    elif data[0] == '{' and data[1].isnumeric():\n",
    "        return f'A correlation heatmap with {data[1:].split(\",\")[0]} features where the redundant pairs are the following:{data[:-1].split(\",\",1)[1]}.'\n",
    "    elif data[0] == '[' and (data[1] == 'T' or data[1] == 'F') and data[2] == ',':\n",
    "        return f'A set of boxplots that aren\\'t normalized, in the following dictionary we can see each one of them and see if they have outliers and are balanced:{data[:-1].split(\",\",1)[1]}.'\n",
    "    elif data[-1] == '}' and data[-2] == ']':\n",
    "        return f'A set of bar charts for each symbolic variable:{data}.'\n",
    "    elif data[0] == '{' and data[-2].isnumeric():\n",
    "        return f'A bar chart showing the number of missing values for each variable:{data}.'\n",
    "    elif data[0] == '[' and len(data.split(\",\")) == 2:\n",
    "        return f'A bar chart with the following values:{data}.'\n",
    "    elif 'Ordinal:' in data:\n",
    "        return f'A set of histograms one for each variable, in the following dictionary we can see each one of them and see if they have outliers, if they are balanced and if it makes sense for them to be ordinal:{data}.'\n",
    "    \n",
    "    \n",
    "\n",
    "def getData(chart):\n",
    "    dataset = load_dataset('eduvedras/QAData',trust_remote_code=True)\n",
    "    for i in range(len(dataset['train'])):\n",
    "        if dataset['train'][i]['Chart_name'] == chart:\n",
    "            return formatData(dataset['train'][i]['Data'])\n",
    "    \n",
    "    for i in range(len(dataset['test'])):\n",
    "        if dataset['test'][i]['Chart_name'] == chart:\n",
    "            return formatData(dataset['test'][i]['Data'])\n",
    "    \n",
    "    return 'ERRROR'"
   ]
  },
  {
   "cell_type": "code",
   "execution_count": 12,
   "metadata": {},
   "outputs": [
    {
     "name": "stderr",
     "output_type": "stream",
     "text": [
      "100%|██████████| 2345/2345 [2:42:23<00:00,  4.16s/it]  \n"
     ]
    }
   ],
   "source": [
    "from tqdm.auto import tqdm\n",
    "filetag=\"chartdatatrain1\"\n",
    "dataset = load_dataset('eduvedras/QA',split='train',trust_remote_code=True)\n",
    "\n",
    "#file = open(f\"{filetag}.jsonl\", \"a\")\n",
    "import json\n",
    "\n",
    "\n",
    "with open(f\"{filetag}.jsonl\", 'w') as f:\n",
    "    for i in tqdm(range(len(dataset))):\n",
    "        chartdata = getData(dataset[i]['Chart_name'])\n",
    "        question = dataset[i]['Question']\n",
    "        answer = dataset[i]['Answer']\n",
    "        line = {'messages':[]}\n",
    "        line['messages'].append({\"role\": \"system\", \"content\": \"You are a student doing a data science exam.\"})\n",
    "        line['messages'].append({\"role\":\"user\", \"content\":f\"Consider the following chart \\\"{chartdata}\\\", classify the following sentence about the chart as true or false: \\\"{question}\\\".\"})\n",
    "        line[\"messages\"].append({'role':\"assistant\", \"content\":f\"{'True' if answer=='T' else 'False'}\"})\n",
    "        f.write(json.dumps(line) +\"\\n\")\n"
   ]
  }
 ],
 "metadata": {
  "kernelspec": {
   "display_name": "Python 3",
   "language": "python",
   "name": "python3"
  },
  "language_info": {
   "codemirror_mode": {
    "name": "ipython",
    "version": 3
   },
   "file_extension": ".py",
   "mimetype": "text/x-python",
   "name": "python",
   "nbconvert_exporter": "python",
   "pygments_lexer": "ipython3",
   "version": "3.10.14"
  }
 },
 "nbformat": 4,
 "nbformat_minor": 2
}
