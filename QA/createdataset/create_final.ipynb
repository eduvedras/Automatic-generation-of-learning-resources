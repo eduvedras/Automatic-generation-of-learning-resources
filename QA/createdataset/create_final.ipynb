{
 "cells": [
  {
   "cell_type": "code",
   "execution_count": 8,
   "metadata": {},
   "outputs": [
    {
     "name": "stdout",
     "output_type": "stream",
     "text": [
      "hjhk\n",
      "hjhk\n",
      "hjhk\n",
      "hjhk\n",
      "hjhk\n",
      "hjhk\n",
      "hjhk\n",
      "hjhk\n",
      "hjhk\n"
     ]
    }
   ],
   "source": [
    "import pandas as pd \n",
    "\n",
    "\n",
    "prof = pd.read_csv(\"datasetprof1.csv\",sep=\";\")\n",
    "\n",
    "scores = pd.read_csv(\"qa_datasetfromscores.csv\", sep=\",\")\n",
    "\n",
    "result = pd.concat([scores, prof])\n",
    "\n",
    "new_dataset = pd.DataFrame(columns=['Id', 'Chart', 'Question', 'Answer'])\n",
    "\n",
    "i= 0\n",
    "for index, row in result.iterrows():\n",
    "    new_row = {'Id': i, 'Chart': row[\"Chart\"], 'Question': row[\"Question\"], 'Answer': row[\"Answer\"]}\n",
    "    if ((new_dataset['Chart'] == row['Chart']) & (new_dataset['Question'] == row['Question']) & (new_dataset['Answer'] == row['Answer'])).any():\n",
    "        continue\n",
    "    new_dataset.loc[len(new_dataset)] = new_row\n",
    "    i+=1\n",
    "\n",
    "new_dataset.to_csv(\"finaldataset.csv\",index=False)\n",
    "\n"
   ]
  },
  {
   "cell_type": "code",
   "execution_count": 10,
   "metadata": {},
   "outputs": [],
   "source": [
    "import tarfile\n",
    "import os.path\n",
    "\n",
    "def make_tarfile(output_filename, source_dir):\n",
    "    with tarfile.open(output_filename, \"w:gz\") as tar:\n",
    "        tar.add(source_dir, arcname=os.path.basename(source_dir))\n",
    "        \n",
    "make_tarfile(\"images.tar.gz\", \"./images\")"
   ]
  }
 ],
 "metadata": {
  "kernelspec": {
   "display_name": "Python 3",
   "language": "python",
   "name": "python3"
  },
  "language_info": {
   "codemirror_mode": {
    "name": "ipython",
    "version": 3
   },
   "file_extension": ".py",
   "mimetype": "text/x-python",
   "name": "python",
   "nbconvert_exporter": "python",
   "pygments_lexer": "ipython3",
   "version": "3.10.14"
  }
 },
 "nbformat": 4,
 "nbformat_minor": 2
}
