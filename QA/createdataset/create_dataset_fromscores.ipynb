{
 "cells": [
  {
   "cell_type": "code",
   "execution_count": 7,
   "metadata": {},
   "outputs": [],
   "source": [
    "import pandas as pd\n",
    "from matplotlib.pyplot import figure, savefig, show, subplots\n",
    "import os\n",
    "import math\n",
    "\n",
    "def aux(param):\n",
    "    if type(param) == str:\n",
    "        return int(param)\n",
    "    if math.isnan(param):\n",
    "        return param\n",
    "    return int(param)\n",
    "\n",
    "new_df = pd.DataFrame(columns=['Id', 'Chart', 'Question', 'Answer'])\n",
    "\n",
    "dic = {}\n",
    "directory = \"./scores\"\n",
    "for file in os.scandir(directory):\n",
    "    if file.is_file():\n",
    "        if \"csv\" in file.name:\n",
    "            df = pd.read_csv(file.path, sep=';')\n",
    "            df_results = pd.read_csv(f\"./results/{file.name}\",sep=\",\")\n",
    "            \n",
    "            filtered_df = df[df['Possible to answer'] == 1]\n",
    "            filtered_df = filtered_df[filtered_df['Score'] > 3]\n",
    "        \n",
    "            for index, row in filtered_df.iterrows(): \n",
    "                id = int(row['QId'][:-1])\n",
    "                row_results = df_results.loc[df_results['Id'] == id].iloc[0]\n",
    "                new_row = {\"Id\": id, \"Chart\": row_results['Image'], \"Question\": row_results['Prediction'], \"Answer\": row['Answer']}\n",
    "                new_df.loc[len(new_df)] = new_row\n",
    "\n",
    "new_df.to_csv(\"./qa_dataset_fromscores.csv\", index=False)"
   ]
  }
 ],
 "metadata": {
  "kernelspec": {
   "display_name": "Python 3",
   "language": "python",
   "name": "python3"
  },
  "language_info": {
   "codemirror_mode": {
    "name": "ipython",
    "version": 3
   },
   "file_extension": ".py",
   "mimetype": "text/x-python",
   "name": "python",
   "nbconvert_exporter": "python",
   "pygments_lexer": "ipython3",
   "version": "3.10.14"
  }
 },
 "nbformat": 4,
 "nbformat_minor": 2
}
