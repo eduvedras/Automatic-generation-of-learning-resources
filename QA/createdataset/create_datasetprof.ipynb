{
 "cells": [
  {
   "cell_type": "code",
   "execution_count": 4,
   "metadata": {},
   "outputs": [],
   "source": [
    "import pandas as pd\n",
    "\n",
    "answers = pd.read_csv(\"./answers.csv\", sep=\",\")\n",
    "original = pd.read_csv(\"./OriginalDataset.csv\", sep=\";\")\n",
    "\n",
    "new_dataset = pd.DataFrame(columns=['Id', 'Chart', 'Question', 'Answer'])\n",
    "\n",
    "i = 0\n",
    "for index, row in answers.iterrows():\n",
    "    if(row[\"Answer\"] == 'T' or row[\"Answer\"] == 'F'):\n",
    "        question = original.iloc[index][\"Question\"]\n",
    "        if (', but the class,' in question):\n",
    "            aux = question.split(\", but the class,\")\n",
    "            question = aux[0] + aux[1]\n",
    "        if (type(row['Note']) != float and 'records=' in row['Note']):\n",
    "            question = 'Considering that the dataset has ' + row['Note'].split('ecords=')[1] + ' records, ' + question[0].lower() + question[1:]\n",
    "        if (type(row['Note']) != float and 'target=' in row['Note']):\n",
    "            question = 'Considering that the target variable is ' + row['Note'].split('arget=')[1] + ' we can say that ' + question[0].lower() + question[1:]\n",
    "        if (type(row['Note']) != float and '[' in row['Note'] and ']' in row['Note'] and ';' in row['Note']):\n",
    "            #print(row['Note'])\n",
    "            positive = row['Note'][1:-1].split(';')[0]\n",
    "            negative = row['Note'][1:-1].split(';')[1]\n",
    "            question = question[:-1] + ', consider ' + positive + ' as the positive class and ' + negative + ' as the negative class.'\n",
    "        if ('The chart reporting the recall' in question):\n",
    "            aux = question.split(\"recall\")\n",
    "            question = aux[0] + \"accuracy\" + aux[1]\n",
    "        if ('At least' in question):\n",
    "            question = question[0:11] + '%' + question[11:]\n",
    "            \n",
    "        new_row = {'Id': i, 'Chart': original.iloc[index][\"Chart\"], 'Question': question, 'Answer': row[\"Answer\"]}\n",
    "        new_dataset.loc[len(new_dataset)] = new_row\n",
    "        i+=1\n",
    "        \n",
    "new_dataset.to_csv(\"datasetprof1.csv\", sep=\";\", index=False)\n",
    "    \n",
    "    "
   ]
  }
 ],
 "metadata": {
  "kernelspec": {
   "display_name": "Python 3",
   "language": "python",
   "name": "python3"
  },
  "language_info": {
   "codemirror_mode": {
    "name": "ipython",
    "version": 3
   },
   "file_extension": ".py",
   "mimetype": "text/x-python",
   "name": "python",
   "nbconvert_exporter": "python",
   "pygments_lexer": "ipython3",
   "version": "3.10.14"
  }
 },
 "nbformat": 4,
 "nbformat_minor": 2
}
