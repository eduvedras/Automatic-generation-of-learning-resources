{
 "cells": [
  {
   "cell_type": "code",
   "execution_count": 3,
   "metadata": {},
   "outputs": [
    {
     "ename": "SyntaxError",
     "evalue": "invalid syntax (2981233809.py, line 5)",
     "output_type": "error",
     "traceback": [
      "\u001b[0;36m  Cell \u001b[0;32mIn[3], line 5\u001b[0;36m\u001b[0m\n\u001b[0;31m    new_dataset = pd.DataFrame(columns=['Id',,'Data','Chart'])\u001b[0m\n\u001b[0m                                             ^\u001b[0m\n\u001b[0;31mSyntaxError\u001b[0m\u001b[0;31m:\u001b[0m invalid syntax\n"
     ]
    }
   ],
   "source": [
    "import pandas as pd\n",
    "\n",
    "dataset = pd.read_csv(\"desc_questions_dataset.csv\",sep=\";\")\n",
    "\n",
    "new_dataset = pd.DataFrame(columns=['Id','Data','Chart'])\n",
    "i=0\n",
    "for index,row in dataset.iterrows():\n",
    "    new_row = {'Id':i,'Data': '','Chart': row['Chart']}\n",
    "    new_dataset.loc[len(new_dataset)] = new_row\n",
    "    i+=1\n",
    "    \n",
    "new_dataset.to_csv('chartdata.csv',sep=\";\",index=False)\n",
    "    "
   ]
  }
 ],
 "metadata": {
  "kernelspec": {
   "display_name": "Python 3",
   "language": "python",
   "name": "python3"
  },
  "language_info": {
   "codemirror_mode": {
    "name": "ipython",
    "version": 3
   },
   "file_extension": ".py",
   "mimetype": "text/x-python",
   "name": "python",
   "nbconvert_exporter": "python",
   "pygments_lexer": "ipython3",
   "version": "3.10.14"
  }
 },
 "nbformat": 4,
 "nbformat_minor": 2
}
