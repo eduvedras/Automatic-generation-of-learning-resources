{
 "cells": [
  {
   "cell_type": "code",
   "execution_count": 2,
   "metadata": {},
   "outputs": [],
   "source": [
    "# import module \n",
    "import pandas as pd\n",
    "  \n",
    "# to open/create a new html file in the write mode \n",
    "f = open('dataset.html', 'w') \n",
    "  \n",
    "# the html code which will go in the file GFG.html \n",
    "html_template = \"\"\" \n",
    "<html> \n",
    "<head></head> \n",
    "<body> \"\"\"\n",
    "\n",
    "data = pd.read_csv(\"chartdata.csv\",sep=\";\")\n",
    "\n",
    "for index, row in data.iterrows():\n",
    "    html_template += f\"\"\"\n",
    "    <img src=\"../images/{row['Chart']}\" width=\"auto\" height = \"600\"/> \n",
    "    <p>{row['Id']}</p>\"\"\"\n",
    "\n",
    "html_template += \"\"\"\n",
    "</body> \n",
    "</html> \n",
    "\"\"\"\n",
    "  \n",
    "# writing the code into the file \n",
    "f.write(html_template) \n",
    "  \n",
    "# close the file \n",
    "f.close() \n"
   ]
  }
 ],
 "metadata": {
  "kernelspec": {
   "display_name": "Python 3",
   "language": "python",
   "name": "python3"
  },
  "language_info": {
   "codemirror_mode": {
    "name": "ipython",
    "version": 3
   },
   "file_extension": ".py",
   "mimetype": "text/x-python",
   "name": "python",
   "nbconvert_exporter": "python",
   "pygments_lexer": "ipython3",
   "version": "3.10.14"
  }
 },
 "nbformat": 4,
 "nbformat_minor": 2
}
