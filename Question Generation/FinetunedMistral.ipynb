{
 "cells": [
  {
   "cell_type": "code",
   "execution_count": 2,
   "metadata": {},
   "outputs": [
    {
     "name": "stderr",
     "output_type": "stream",
     "text": [
      "/usr/lib/python3/dist-packages/requests/__init__.py:89: RequestsDependencyWarning: urllib3 (2.2.0) or chardet (3.0.4) doesn't match a supported version!\n",
      "  warnings.warn(\"urllib3 ({}) or chardet ({}) doesn't match a supported \"\n",
      "/home/eduvedras/.local/lib/python3.10/site-packages/tqdm/auto.py:21: TqdmWarning: IProgress not found. Please update jupyter and ipywidgets. See https://ipywidgets.readthedocs.io/en/stable/user_install.html\n",
      "  from .autonotebook import tqdm as notebook_tqdm\n"
     ]
    }
   ],
   "source": [
    "from PIL import Image\n",
    "import requests\n",
    "import torch\n",
    "from transformers import T5Tokenizer, T5ForConditionalGeneration, AutoModelForCausalLM, AutoTokenizer\n",
    "from datasets import load_dataset\n",
    "\n",
    "device = \"cuda\" if torch.cuda.is_available() else \"cpu\"\n",
    "\n",
    "dataset = load_dataset('eduvedras/Desc_Questions',split='test',trust_remote_code=True)\n",
    "#dataset[0]['Questions']"
   ]
  },
  {
   "cell_type": "code",
   "execution_count": null,
   "metadata": {},
   "outputs": [
    {
     "name": "stderr",
     "output_type": "stream",
     "text": [
      "Loading checkpoint shards: 100%|██████████| 3/3 [00:09<00:00,  3.07s/it]\n",
      "WARNING:root:Some parameters are on the meta device device because they were offloaded to the cpu.\n"
     ]
    }
   ],
   "source": [
    "#import huggingface_hub\n",
    "\n",
    "#huggingface_hub.login('',True,False,False)\n",
    "filetag = \"mistral-finetuned\"\n",
    "model_id = \"eduvedras/Mistral-finetuned\"\n",
    "tokenizer = AutoTokenizer.from_pretrained(\"mistralai/Mistral-7B-Instruct-v0.2\")\n",
    "\n",
    "model = AutoModelForCausalLM.from_pretrained(model_id, device_map=\"auto\", torch_dtype=torch.float16)#.to(device)\n"
   ]
  },
  {
   "cell_type": "code",
   "execution_count": 6,
   "metadata": {},
   "outputs": [
    {
     "name": "stderr",
     "output_type": "stream",
     "text": [
      "  0%|          | 0/15 [00:00<?, ?it/s]The attention mask and the pad token id were not set. As a consequence, you may observe unexpected behavior. Please pass your input's `attention_mask` to obtain reliable results.\n",
      "Setting `pad_token_id` to `eos_token_id`:2 for open-end generation.\n"
     ]
    }
   ],
   "source": [
    "from tqdm import tqdm\n",
    "predictions = []\n",
    "references = []\n",
    "for i in tqdm(range(len(dataset))):\n",
    "#i=14\n",
    "    inputs = []\n",
    "    questions = dataset[i][\"Questions\"][2:-2].split(\"\\', \\'\")\n",
    "    inputs.append({\"role\": \"user\", \"content\": \"Consider the following data chart \\\"\" +dataset[i][\"Description\"] + \"\\\", generate a true or false sentence based on this data chart. In your answer only generate the sentence.\"})\n",
    "    model_inputs = tokenizer.apply_chat_template(inputs, return_tensors=\"pt\")#.to(device)\n",
    "\n",
    "    generated_ids = model.generate(model_inputs, max_new_tokens=200, do_sample=True)\n",
    "    decoded = tokenizer.batch_decode(generated_ids)\n",
    "    result = decoded[0].split(\"[/INST]\")[1] \n",
    "    result = result.split(\"</s>\")[0]\n",
    "    predictions.append(result)\n",
    "    references.append(dataset[i][\"Questions\"])\n",
    "    print(inputs)\n",
    "    print(\"---------\")\n",
    "    print(result)\n"
   ]
  },
  {
   "cell_type": "code",
   "execution_count": 1,
   "metadata": {},
   "outputs": [
    {
     "ename": "NameError",
     "evalue": "name 'predictions' is not defined",
     "output_type": "error",
     "traceback": [
      "\u001b[0;31m---------------------------------------------------------------------------\u001b[0m",
      "\u001b[0;31mNameError\u001b[0m                                 Traceback (most recent call last)",
      "Cell \u001b[0;32mIn[1], line 4\u001b[0m\n\u001b[1;32m      1\u001b[0m \u001b[38;5;28;01mimport\u001b[39;00m \u001b[38;5;21;01mrandom\u001b[39;00m\n\u001b[1;32m      2\u001b[0m predictions_final \u001b[38;5;241m=\u001b[39m []\n\u001b[0;32m----> 4\u001b[0m \u001b[38;5;28;01mfor\u001b[39;00m el \u001b[38;5;129;01min\u001b[39;00m \u001b[43mpredictions\u001b[49m:\n\u001b[1;32m      5\u001b[0m     preds \u001b[38;5;241m=\u001b[39m el\u001b[38;5;241m.\u001b[39msplit(\u001b[38;5;124m\"\u001b[39m\u001b[38;5;130;01m\\\"\u001b[39;00m\u001b[38;5;124m\"\u001b[39m)\n\u001b[1;32m      6\u001b[0m     \u001b[38;5;28mprint\u001b[39m(preds)\n",
      "\u001b[0;31mNameError\u001b[0m: name 'predictions' is not defined"
     ]
    }
   ],
   "source": [
    "import random\n",
    "predictions_final = []\n",
    "\n",
    "for el in predictions:\n",
    "    preds = el.split(\"\\\"\")\n",
    "    print(preds)\n",
    "    if \"1.\" and \"5.\" in preds:\n",
    "        rand_int = random.randint(1,5)\n",
    "        preds = preds.split(f\"{rand_int}. \")[1]\n",
    "        preds = preds.split(\".\")[0]\n",
    "        preds = preds + \".\"\n",
    "        predictions_final.append(preds)\n",
    "    if len(preds) == 1:\n",
    "        preds = el.split(\"(\")[0]\n",
    "        predictions_final.append(preds)\n",
    "    else:\n",
    "        predictions_final.append(preds[1])\n",
    "        \n",
    "predictions_final"
   ]
  },
  {
   "cell_type": "code",
   "execution_count": 8,
   "metadata": {},
   "outputs": [
    {
     "name": "stdout",
     "output_type": "stream",
     "text": [
      "{'bleu': 0.025748829412799375, 'precisions': [0.3368146214099217, 0.10386151797603196, 0.0625, 0.03744798890429958], 'brevity_penalty': 0.27068797323198596, 'length_ratio': 0.4335031126202603, 'translation_length': 766, 'reference_length': 1767}\n"
     ]
    },
    {
     "name": "stderr",
     "output_type": "stream",
     "text": [
      "[nltk_data] Downloading package wordnet to\n",
      "[nltk_data]     /home/eduvedras/nltk_data...\n",
      "[nltk_data]   Package wordnet is already up-to-date!\n",
      "[nltk_data] Downloading package punkt to /home/eduvedras/nltk_data...\n",
      "[nltk_data]   Package punkt is already up-to-date!\n",
      "[nltk_data] Downloading package omw-1.4 to\n",
      "[nltk_data]     /home/eduvedras/nltk_data...\n",
      "[nltk_data]   Package omw-1.4 is already up-to-date!\n"
     ]
    },
    {
     "name": "stdout",
     "output_type": "stream",
     "text": [
      "{'meteor': 0.17508784528307364}\n",
      "{'rouge1': 0.21018705007664884, 'rouge2': 0.060525853011167495, 'rougeL': 0.15890013636649433, 'rougeLsum': 0.1581472465104503}\n"
     ]
    }
   ],
   "source": [
    "import evaluate\n",
    "\n",
    "file = open(f\"./resultados-ger-perguntas/{filetag}.txt\", \"a\")\n",
    "\n",
    "bleu = evaluate.load(\"bleu\")\n",
    "results = bleu.compute(predictions=predictions, references=references)\n",
    "print(results)\n",
    "file.write(f\"BLEU: {results}\\n\")\n",
    "\n",
    "meteor = evaluate.load(\"meteor\")\n",
    "results = meteor.compute(predictions=predictions, references=references)\n",
    "print(results)\n",
    "file.write(f\"METEOR: {results}\\n\")\n",
    "\n",
    "rouge = evaluate.load(\"rouge\")\n",
    "results = rouge.compute(predictions=predictions, references=references)\n",
    "print(results)\n",
    "file.write(f\"ROUGE: {results}\\n\")\n",
    "file.close()"
   ]
  },
  {
   "cell_type": "code",
   "execution_count": 9,
   "metadata": {},
   "outputs": [],
   "source": [
    "import pandas as pd\n",
    "\n",
    "new_df = pd.DataFrame(columns=['Image','Prediction','References'])\n",
    "\n",
    "i=0\n",
    "while i < len(dataset):\n",
    "    if ((new_df['Image'] == dataset[i]['Chart_name']) & (new_df['Prediction'] == predictions[i])).any():\n",
    "        i += 1\n",
    "        continue\n",
    "    else:\n",
    "        new_df.loc[len(new_df)] = {'Image': dataset[i]['Chart_name'], 'Prediction': predictions[i], 'References': references[i]}\n",
    "        i += 1\n",
    "    \n",
    "new_df.to_csv(f'./resultados-ger-perguntas/{filetag}.csv', index=False)"
   ]
  }
 ],
 "metadata": {
  "kernelspec": {
   "display_name": "Python 3",
   "language": "python",
   "name": "python3"
  },
  "language_info": {
   "codemirror_mode": {
    "name": "ipython",
    "version": 3
   },
   "file_extension": ".py",
   "mimetype": "text/x-python",
   "name": "python",
   "nbconvert_exporter": "python",
   "pygments_lexer": "ipython3",
   "version": "3.10.13"
  }
 },
 "nbformat": 4,
 "nbformat_minor": 2
}
