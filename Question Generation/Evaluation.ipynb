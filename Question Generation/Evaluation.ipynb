{
 "cells": [
  {
   "cell_type": "code",
   "execution_count": 1,
   "metadata": {},
   "outputs": [
    {
     "name": "stderr",
     "output_type": "stream",
     "text": [
      "/home/eduvedras/.local/lib/python3.10/site-packages/tqdm/auto.py:21: TqdmWarning: IProgress not found. Please update jupyter and ipywidgets. See https://ipywidgets.readthedocs.io/en/stable/user_install.html\n",
      "  from .autonotebook import tqdm as notebook_tqdm\n"
     ]
    }
   ],
   "source": [
    "from datasets import load_dataset\n",
    "from transformers import Pix2StructForConditionalGeneration, Pix2StructProcessor,AutoProcessor, AutoModelForCausalLM\n",
    "import torch\n",
    "from evaluate import load\n",
    "\n",
    "torch.cuda.empty_cache()\n",
    "\n",
    "dataset = load_dataset('eduvedras/Img_Vars',split='test',trust_remote_code=True)\n"
   ]
  },
  {
   "cell_type": "code",
   "execution_count": 2,
   "metadata": {},
   "outputs": [
    {
     "data": {
      "text/plain": [
       "Pix2StructForConditionalGeneration(\n",
       "  (encoder): Pix2StructVisionModel(\n",
       "    (embeddings): Pix2StructVisionEmbeddings(\n",
       "      (patch_projection): Linear(in_features=768, out_features=768, bias=True)\n",
       "      (row_embedder): Embedding(4096, 768)\n",
       "      (column_embedder): Embedding(4096, 768)\n",
       "      (dropout): Dropout(p=0.06, inplace=False)\n",
       "    )\n",
       "    (encoder): Pix2StructVisionEncoder(\n",
       "      (layer): ModuleList(\n",
       "        (0-11): 12 x Pix2StructVisionLayer(\n",
       "          (attention): Pix2StructVisionAttention(\n",
       "            (query): Linear(in_features=768, out_features=768, bias=False)\n",
       "            (key): Linear(in_features=768, out_features=768, bias=False)\n",
       "            (value): Linear(in_features=768, out_features=768, bias=False)\n",
       "            (output): Linear(in_features=768, out_features=768, bias=False)\n",
       "          )\n",
       "          (mlp): Pix2StructVisionMlp(\n",
       "            (wi_0): Linear(in_features=768, out_features=2048, bias=False)\n",
       "            (wi_1): Linear(in_features=768, out_features=2048, bias=False)\n",
       "            (wo): Linear(in_features=2048, out_features=768, bias=False)\n",
       "            (dropout): Dropout(p=0.06, inplace=False)\n",
       "            (act): NewGELUActivation()\n",
       "          )\n",
       "          (pre_mlp_layer_norm): Pix2StructLayerNorm()\n",
       "          (pre_attention_layer_norm): Pix2StructLayerNorm()\n",
       "        )\n",
       "      )\n",
       "    )\n",
       "    (layernorm): Pix2StructLayerNorm()\n",
       "  )\n",
       "  (decoder): Pix2StructTextModel(\n",
       "    (embed_tokens): Embedding(50244, 768)\n",
       "    (layer): ModuleList(\n",
       "      (0): Pix2StructTextBlock(\n",
       "        (self_attention): Pix2StructTextLayerSelfAttention(\n",
       "          (attention): Pix2StructTextAttention(\n",
       "            (query): Linear(in_features=768, out_features=768, bias=False)\n",
       "            (key): Linear(in_features=768, out_features=768, bias=False)\n",
       "            (value): Linear(in_features=768, out_features=768, bias=False)\n",
       "            (output): Linear(in_features=768, out_features=768, bias=False)\n",
       "            (relative_attention_bias): Embedding(32, 12)\n",
       "          )\n",
       "          (layer_norm): Pix2StructLayerNorm()\n",
       "          (dropout): Dropout(p=0.05, inplace=False)\n",
       "        )\n",
       "        (encoder_decoder_attention): Pix2StructTextLayerCrossAttention(\n",
       "          (attention): Pix2StructTextAttention(\n",
       "            (query): Linear(in_features=768, out_features=768, bias=False)\n",
       "            (key): Linear(in_features=768, out_features=768, bias=False)\n",
       "            (value): Linear(in_features=768, out_features=768, bias=False)\n",
       "            (output): Linear(in_features=768, out_features=768, bias=False)\n",
       "          )\n",
       "          (layer_norm): Pix2StructLayerNorm()\n",
       "          (dropout): Dropout(p=0.05, inplace=False)\n",
       "        )\n",
       "        (mlp): Pix2StructTextLayerFF(\n",
       "          (DenseReluDense): Pix2StructTextDenseGatedActDense(\n",
       "            (wi_0): Linear(in_features=768, out_features=2048, bias=False)\n",
       "            (wi_1): Linear(in_features=768, out_features=2048, bias=False)\n",
       "            (wo): Linear(in_features=2048, out_features=768, bias=False)\n",
       "            (dropout): Dropout(p=0.05, inplace=False)\n",
       "            (act): NewGELUActivation()\n",
       "          )\n",
       "          (layer_norm): Pix2StructLayerNorm()\n",
       "          (dropout): Dropout(p=0.05, inplace=False)\n",
       "        )\n",
       "      )\n",
       "      (1-11): 11 x Pix2StructTextBlock(\n",
       "        (self_attention): Pix2StructTextLayerSelfAttention(\n",
       "          (attention): Pix2StructTextAttention(\n",
       "            (query): Linear(in_features=768, out_features=768, bias=False)\n",
       "            (key): Linear(in_features=768, out_features=768, bias=False)\n",
       "            (value): Linear(in_features=768, out_features=768, bias=False)\n",
       "            (output): Linear(in_features=768, out_features=768, bias=False)\n",
       "          )\n",
       "          (layer_norm): Pix2StructLayerNorm()\n",
       "          (dropout): Dropout(p=0.05, inplace=False)\n",
       "        )\n",
       "        (encoder_decoder_attention): Pix2StructTextLayerCrossAttention(\n",
       "          (attention): Pix2StructTextAttention(\n",
       "            (query): Linear(in_features=768, out_features=768, bias=False)\n",
       "            (key): Linear(in_features=768, out_features=768, bias=False)\n",
       "            (value): Linear(in_features=768, out_features=768, bias=False)\n",
       "            (output): Linear(in_features=768, out_features=768, bias=False)\n",
       "          )\n",
       "          (layer_norm): Pix2StructLayerNorm()\n",
       "          (dropout): Dropout(p=0.05, inplace=False)\n",
       "        )\n",
       "        (mlp): Pix2StructTextLayerFF(\n",
       "          (DenseReluDense): Pix2StructTextDenseGatedActDense(\n",
       "            (wi_0): Linear(in_features=768, out_features=2048, bias=False)\n",
       "            (wi_1): Linear(in_features=768, out_features=2048, bias=False)\n",
       "            (wo): Linear(in_features=2048, out_features=768, bias=False)\n",
       "            (dropout): Dropout(p=0.05, inplace=False)\n",
       "            (act): NewGELUActivation()\n",
       "          )\n",
       "          (layer_norm): Pix2StructLayerNorm()\n",
       "          (dropout): Dropout(p=0.05, inplace=False)\n",
       "        )\n",
       "      )\n",
       "    )\n",
       "    (final_layer_norm): Pix2StructLayerNorm()\n",
       "    (dropout): Dropout(p=0.05, inplace=False)\n",
       "    (lm_head): Linear(in_features=768, out_features=50244, bias=False)\n",
       "  )\n",
       ")"
      ]
     },
     "execution_count": 2,
     "metadata": {},
     "output_type": "execute_result"
    }
   ],
   "source": [
    "device = \"cuda\" if torch.cuda.is_available() else \"cpu\"\n",
    "\n",
    "filetag = \"pix2struct-textcaps-base-desc-vars-final\"\n",
    "\n",
    "model = Pix2StructForConditionalGeneration.from_pretrained(f\"eduvedras/{filetag}\").to(device)\n",
    "#model = AutoModelForCausalLM.from_pretrained(f\"eduvedras/{filetag}\").to(device)\n",
    "model"
   ]
  },
  {
   "cell_type": "code",
   "execution_count": 3,
   "metadata": {},
   "outputs": [
    {
     "name": "stdout",
     "output_type": "stream",
     "text": [
      "15\n"
     ]
    }
   ],
   "source": [
    "checkpoint = \"google/pix2struct-textcaps-base\"\n",
    "#checkpoint = \"microsoft/git-base\"\n",
    "\n",
    "processor = Pix2StructProcessor.from_pretrained(checkpoint)\n",
    "#processor = AutoProcessor.from_pretrained(checkpoint)\n",
    "\n",
    "predictions = []\n",
    "references = []\n",
    "\n",
    "dic = {}\n",
    "\n",
    "from tqdm.auto import tqdm\n",
    "\n",
    "for i in range(len(dataset)):\n",
    "    dic[dataset[i]['Chart_name']] = []\n",
    "\n",
    "for i in range(len(dataset)):\n",
    "    dic[dataset[i]['Chart_name']].append(dataset[i]['Description'])\n",
    "    \n",
    "print(len(dic))"
   ]
  },
  {
   "cell_type": "code",
   "execution_count": 4,
   "metadata": {},
   "outputs": [
    {
     "name": "stderr",
     "output_type": "stream",
     "text": [
      "100%|██████████| 15/15 [00:08<00:00,  1.68it/s]\n"
     ]
    }
   ],
   "source": [
    "for i in tqdm(range(len(dataset))):\n",
    "    inputs = processor(images=dataset[i]['Chart'], return_tensors=\"pt\").to(device)\n",
    "    flattened_patches = inputs.flattened_patches\n",
    "    #pixel_values = inputs.pixel_values\n",
    "    attention_mask = inputs.attention_mask\n",
    "    generated_ids = model.generate(flattened_patches=flattened_patches, attention_mask=attention_mask, max_length=167)\n",
    "    \n",
    "    #generated_ids = model.generate(pixel_values=pixel_values, max_length=167)\n",
    "    \n",
    "    generated_caption = processor.batch_decode(generated_ids, skip_special_tokens=True)[0]  \n",
    "    predictions.append(generated_caption)\n",
    "    references.append(dic[dataset[i]['Chart_name']])"
   ]
  },
  {
   "cell_type": "code",
   "execution_count": 5,
   "metadata": {},
   "outputs": [
    {
     "name": "stdout",
     "output_type": "stream",
     "text": [
      "{'bleu': 0.0, 'precisions': [0.10975609756097561, 0.0, 0.0, 0.0], 'brevity_penalty': 0.05227591594298973, 'length_ratio': 0.25308641975308643, 'translation_length': 82, 'reference_length': 324}\n"
     ]
    },
    {
     "name": "stderr",
     "output_type": "stream",
     "text": [
      "[nltk_data] Downloading package wordnet to\n",
      "[nltk_data]     /home/eduvedras/nltk_data...\n",
      "[nltk_data]   Package wordnet is already up-to-date!\n",
      "[nltk_data] Downloading package punkt to /home/eduvedras/nltk_data...\n",
      "[nltk_data]   Package punkt is already up-to-date!\n",
      "[nltk_data] Downloading package omw-1.4 to\n",
      "[nltk_data]     /home/eduvedras/nltk_data...\n",
      "[nltk_data]   Package omw-1.4 is already up-to-date!\n"
     ]
    },
    {
     "name": "stdout",
     "output_type": "stream",
     "text": [
      "{'meteor': 0.012753232902160168}\n",
      "{'rouge1': 0.051870525988173044, 'rouge2': 0.007141179234202489, 'rougeL': 0.03997510115157174, 'rougeLsum': 0.0406411453470277}\n"
     ]
    }
   ],
   "source": [
    "import evaluate\n",
    "\n",
    "\n",
    "file = open(f\"{filetag}.txt\", \"a\")\n",
    "\n",
    "bleu = evaluate.load(\"bleu\")\n",
    "results = bleu.compute(predictions=predictions, references=references)\n",
    "print(results)\n",
    "file.write(f\"BLEU: {results}\\n\")\n",
    "\n",
    "meteor = evaluate.load(\"meteor\")\n",
    "results = meteor.compute(predictions=predictions, references=references)\n",
    "print(results)\n",
    "file.write(f\"METEOR: {results}\\n\")\n",
    "\n",
    "rouge = evaluate.load(\"rouge\")\n",
    "results = rouge.compute(predictions=predictions, references=references)\n",
    "print(results)\n",
    "file.write(f\"ROUGE: {results}\\n\")\n",
    "file.close()"
   ]
  },
  {
   "cell_type": "code",
   "execution_count": 6,
   "metadata": {},
   "outputs": [],
   "source": [
    "import pandas as pd\n",
    "\n",
    "new_df = pd.DataFrame(columns=['Image','Prediction'])\n",
    "\n",
    "i=0\n",
    "while i < len(dataset):\n",
    "    if ((new_df['Image'] == dataset[i]['Chart_name']) & (new_df['Prediction'] == predictions[i])).any():\n",
    "        i += 1\n",
    "        continue\n",
    "    else:\n",
    "        new_df.loc[len(new_df)] = {'Image': dataset[i]['Chart_name'], 'Prediction': predictions[i]}\n",
    "        i += 1\n",
    "    \n",
    "new_df.to_csv(f'{filetag}.csv', index=False)"
   ]
  }
 ],
 "metadata": {
  "kernelspec": {
   "display_name": "Python 3",
   "language": "python",
   "name": "python3"
  },
  "language_info": {
   "codemirror_mode": {
    "name": "ipython",
    "version": 3
   },
   "file_extension": ".py",
   "mimetype": "text/x-python",
   "name": "python",
   "nbconvert_exporter": "python",
   "pygments_lexer": "ipython3",
   "version": "3.10.13"
  }
 },
 "nbformat": 4,
 "nbformat_minor": 2
}
