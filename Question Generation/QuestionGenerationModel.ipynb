{
 "cells": [
  {
   "cell_type": "code",
   "execution_count": null,
   "metadata": {},
   "outputs": [],
   "source": [
    "from PIL import Image\n",
    "import requests\n",
    "import torch\n",
    "from transformers import AutoProcessor, AutoModelForCausalLM\n",
    "from transformers import Pix2StructForConditionalGeneration, Pix2StructProcessor\n",
    "\n",
    "from datasets import load_dataset\n",
    "import os\n",
    "\n",
    "os.environ['OPENAI_API_KEY'] = ''\n",
    "\n",
    "from openai import OpenAI\n",
    "client = OpenAI()\n",
    "\n",
    "device = \"cuda\" if torch.cuda.is_available() else \"cpu\"\n",
    "\n",
    "#dataset = load_dataset('eduvedras/Img_Desc',split='test',trust_remote_code=True)\n",
    "dataset = load_dataset('eduvedras/Desc_Questions',split='test',trust_remote_code=True)"
   ]
  },
  {
   "cell_type": "code",
   "execution_count": 42,
   "metadata": {},
   "outputs": [],
   "source": [
    "def join_predictions(template,vars):\n",
    "    template = template[0].upper() + template[1:]\n",
    "    template = template.replace(' - ','-')\n",
    "    template = template.replace(' : ',': ')\n",
    "    if 'decision tree with depth = 2' in template:\n",
    "        variables = vars.split(',')\n",
    "        first_index = 0\n",
    "        second_index = 0\n",
    "        for i in range(len(template)):\n",
    "            if template[i] == '[' and first_index == 0:\n",
    "                first_index = i\n",
    "            elif template[i] == '[' and first_index != 0:\n",
    "                second_index = i\n",
    "                break\n",
    "        return template[:first_index] + variables[0] + template[first_index+3:second_index] + variables[1][1:] + template[second_index+3:]\n",
    "    elif 'bar chart showing the explained variance ratio' in template or 'bar chart showing the distribution of the target variable' in template:\n",
    "        return template.replace('[ ]',vars)\n",
    "    else:\n",
    "        return template.replace('[ ]','['+vars+']')\n",
    "                "
   ]
  },
  {
   "cell_type": "code",
   "execution_count": null,
   "metadata": {},
   "outputs": [],
   "source": [
    "from huggingface_hub import InferenceClient\n",
    "from transformers import AutoModelForCausalLM\n",
    "\n",
    "filetag = \"final_model\"\n",
    "\n",
    "model_templates = AutoModelForCausalLM.from_pretrained(\"eduvedras/ChartClassificationModel_GiT\").to(device)\n",
    "model_vars = Pix2StructForConditionalGeneration.from_pretrained(\"eduvedras/VariableIdentificationModel_Pix2Struct\").to(device)"
   ]
  },
  {
   "cell_type": "code",
   "execution_count": 44,
   "metadata": {},
   "outputs": [
    {
     "name": "stdout",
     "output_type": "stream",
     "text": [
      "94\n"
     ]
    }
   ],
   "source": [
    "checkpoint_vars = \"google/pix2struct-textcaps-base\"\n",
    "checkpoint_templates = \"microsoft/git-base\"\n",
    "\n",
    "processor_templates = AutoProcessor.from_pretrained(checkpoint_templates)\n",
    "processor_vars = Pix2StructProcessor.from_pretrained(checkpoint_vars)\n",
    "\n",
    "predictions = []\n",
    "references = []\n",
    "\n",
    "dic = {}\n",
    "\n",
    "from tqdm.auto import tqdm\n",
    "\n",
    "for i in range(len(dataset)):\n",
    "    dic[dataset[i]['Chart_name']] = []\n",
    "\n",
    "for i in range(len(dataset)):\n",
    "    dic[dataset[i]['Chart_name']].append(dataset[i]['Description'])\n",
    "    \n",
    "print(len(dic))"
   ]
  },
  {
   "cell_type": "code",
   "execution_count": null,
   "metadata": {},
   "outputs": [
    {
     "name": "stderr",
     "output_type": "stream",
     "text": [
      "  0%|          | 0/94 [00:00<?, ?it/s]"
     ]
    },
    {
     "name": "stderr",
     "output_type": "stream",
     "text": [
      "100%|██████████| 94/94 [06:11<00:00,  3.95s/it]\n"
     ]
    }
   ],
   "source": [
    "for i in tqdm(range(len(dataset))):\n",
    "    inputs_vars = processor_vars(images=dataset[i]['Chart'], return_tensors=\"pt\").to(device)\n",
    "    flattened_patches = inputs_vars.flattened_patches\n",
    "    attention_mask = inputs_vars.attention_mask\n",
    "    generated_vars_ids = model_vars.generate(flattened_patches=flattened_patches, attention_mask=attention_mask, max_length=167)\n",
    "    generated_vars = processor_vars.batch_decode(generated_vars_ids, skip_special_tokens=True)[0]\n",
    "    \n",
    "    inputs_templates = processor_templates(images=dataset[i]['Chart'], return_tensors=\"pt\").to(device)\n",
    "    pixel_values = inputs_templates.pixel_values\n",
    "    generated_template_ids = model_templates.generate(pixel_values=pixel_values, max_length=200)\n",
    "    generated_template = processor_templates.batch_decode(generated_template_ids, skip_special_tokens=True)[0]  \n",
    "    \n",
    "    generated_caption = join_predictions(generated_template,generated_vars)\n",
    "    \n",
    "    inputs = []\n",
    "    inputs.append({\"role\": \"system\", \"content\": \"You are a data science teacher creating exam questions.\"})\n",
    "    inputs.append({\"role\": \"user\", \"content\": \"Consider the following description of a data chart \\\"\" + generated_caption + \"\\\".\"})\n",
    "    inputs.append({\"role\": \"assistant\", \"content\": \"I understand, the data chart is \\\"\" + generated_caption + \"\\\".\"})\n",
    "    inputs.append({\"role\": \"user\", \"content\": \"Generate a true or false sentence based on this description, in your answer generate only the sentence.\"})\n",
    "    \n",
    "    completion = client.chat.completions.create(\n",
    "        model=\"ft:gpt-3.5-turbo-0125:personal::95zeB7CK\",\n",
    "        messages=inputs\n",
    "    )\n",
    "    \n",
    "    predictions.append(completion.choices[0].message.content)\n",
    "    references.append(dataset[i][\"Questions\"][2:-2].split('\", \"'))\n",
    "    #predictions.append(generated_caption)\n",
    "    #references.append(dic[dataset[i]['Chart_name']])\n",
    "    "
   ]
  },
  {
   "cell_type": "code",
   "execution_count": 46,
   "metadata": {},
   "outputs": [
    {
     "name": "stdout",
     "output_type": "stream",
     "text": [
      "{'bleu': 0.002575442335131855, 'precisions': [0.8908496732026144, 0.802924791086351, 0.7563338301043219, 0.7203525641025641], 'brevity_penalty': 0.003259622816199413, 'length_ratio': 0.14867359828976776, 'translation_length': 1530, 'reference_length': 10291}\n"
     ]
    },
    {
     "name": "stderr",
     "output_type": "stream",
     "text": [
      "[nltk_data] Downloading package wordnet to\n",
      "[nltk_data]     /home/eduvedras/nltk_data...\n",
      "[nltk_data]   Package wordnet is already up-to-date!\n",
      "[nltk_data] Downloading package punkt to /home/eduvedras/nltk_data...\n",
      "[nltk_data]   Package punkt is already up-to-date!\n",
      "[nltk_data] Downloading package omw-1.4 to\n",
      "[nltk_data]     /home/eduvedras/nltk_data...\n",
      "[nltk_data]   Package omw-1.4 is already up-to-date!\n"
     ]
    },
    {
     "name": "stdout",
     "output_type": "stream",
     "text": [
      "{'meteor': 0.36450483132705586}\n",
      "{'rouge1': 0.4575711049615443, 'rouge2': 0.4153702872808983, 'rougeL': 0.446040260167763, 'rougeLsum': 0.44776727656717574}\n"
     ]
    }
   ],
   "source": [
    "import evaluate\n",
    "\n",
    "\n",
    "file = open(f\"predictions-{filetag}.txt\", \"a\")\n",
    "\n",
    "bleu = evaluate.load(\"bleu\")\n",
    "results = bleu.compute(predictions=predictions, references=references)\n",
    "print(results)\n",
    "file.write(f\"BLEU: {results}\\n\")\n",
    "\n",
    "meteor = evaluate.load(\"meteor\")\n",
    "results = meteor.compute(predictions=predictions, references=references)\n",
    "print(results)\n",
    "file.write(f\"METEOR: {results}\\n\")\n",
    "\n",
    "rouge = evaluate.load(\"rouge\")\n",
    "results = rouge.compute(predictions=predictions, references=references)\n",
    "print(results)\n",
    "file.write(f\"ROUGE: {results}\\n\")\n",
    "file.close()"
   ]
  },
  {
   "cell_type": "code",
   "execution_count": 47,
   "metadata": {},
   "outputs": [],
   "source": [
    "import pandas as pd\n",
    "\n",
    "new_df = pd.DataFrame(columns=['Image','Prediction'])\n",
    "\n",
    "i=0\n",
    "while i < len(dataset):\n",
    "    if ((new_df['Image'] == dataset[i]['Chart_name']) & (new_df['Prediction'] == predictions[i])).any():\n",
    "        i += 1\n",
    "        continue\n",
    "    else:\n",
    "        new_df.loc[len(new_df)] = {'Image': dataset[i]['Chart_name'], 'Prediction': predictions[i]}\n",
    "        i += 1\n",
    "    \n",
    "new_df.to_csv(f'predictions-{filetag}.csv', index=False)"
   ]
  }
 ],
 "metadata": {
  "kernelspec": {
   "display_name": "Python 3",
   "language": "python",
   "name": "python3"
  },
  "language_info": {
   "codemirror_mode": {
    "name": "ipython",
    "version": 3
   },
   "file_extension": ".py",
   "mimetype": "text/x-python",
   "name": "python",
   "nbconvert_exporter": "python",
   "pygments_lexer": "ipython3",
   "version": "3.10.15"
  }
 },
 "nbformat": 4,
 "nbformat_minor": 2
}
